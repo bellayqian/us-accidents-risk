{
 "cells": [
  {
   "cell_type": "markdown",
   "id": "ca1830a0",
   "metadata": {},
   "source": [
    "# US Accidents Dataset - Exploratory Data Analysis\n",
    "\n",
    "This notebook performs exploratory data analysis on the US Accidents dataset (2016-2023) from Kaggle.\n",
    "\n",
    "## Objectives:\n",
    "\n",
    "1. Analyze accident rates over time\n",
    "\n",
    "2. Identify most common weather conditions per state\n",
    "\n",
    "3. Examine severity trends by year\n",
    "\n",
    "4. Create visualizations to understand patterns"
   ]
  },
  {
   "cell_type": "code",
   "execution_count": 3,
   "id": "d1a11fd0",
   "metadata": {},
   "outputs": [
    {
     "name": "stdout",
     "output_type": "stream",
     "text": [
      "Starting download of US Accidents dataset...\n",
      "Dataset URL: https://www.kaggle.com/datasets/sobhanmoosavi/us-accidents\n",
      "Dataset downloaded and extracted successfully!\n",
      "\n",
      "Files in data directory:\n",
      "  US_Accidents_March23.csv (2916.5 MB)\n",
      "\n",
      "✅ Download completed successfully!\n"
     ]
    }
   ],
   "source": [
    "#  Run the download script:\n",
    "! python /Users/anemos/Desktop/us-accidents-risk/scripts/download_data.py"
   ]
  },
  {
   "cell_type": "code",
   "execution_count": 5,
   "id": "170c8b6e",
   "metadata": {},
   "outputs": [
    {
     "name": "stdout",
     "output_type": "stream",
     "text": [
      "Processing file: ../data/US_Accidents_March23.csv\n",
      "Initialized processor for: ../data/US_Accidents_March23.csv\n",
      "Loading data into DuckDB...\n",
      "✅ Data loaded successfully!\n",
      "\n",
      "📊 Data Integrity Report:\n",
      "========================================\n",
      "Total records: 7,728,394\n",
      "Total columns: 46\n",
      "\n",
      "Missing values in key columns:\n",
      "  ID: 0 (0.0%)\n",
      "  Start_Time: Error checking - Conversion Error: invalid timestamp field format: \"\", expected format is (YYYY-MM-DD HH:MM:SS[.US][±HH[:MM[:SS]]| ZONE])\n",
      "\n",
      "LINE 3: ...                  WHERE \"Start_Time\" IS NULL OR \"Start_Time\" = ''\n",
      "                                                                          ^\n",
      "  State: 0 (0.0%)\n",
      "  Severity: Error checking - Conversion Error: Could not convert string '' to INT64\n",
      "\n",
      "LINE 3: ...                    WHERE \"Severity\" IS NULL OR \"Severity\" = ''\n",
      "                                                                        ^\n",
      "  Weather_Condition: 173,459 (2.2%)\n",
      "\n",
      "Data ranges:\n",
      "  Severity: 1 to 4 (4 unique values)\n",
      "  Date range: 2016-01-14 20:18:33 to 2023-03-31 23:30:00\n",
      "  Unique states: 49\n",
      "\n",
      "📋 Sample data:\n",
      "    ID          Start_Time State  Severity Weather_Condition\n",
      "0  A-1 2016-02-08 05:46:00    OH         3        Light Rain\n",
      "1  A-2 2016-02-08 06:07:59    OH         2        Light Rain\n",
      "2  A-3 2016-02-08 06:49:27    OH         2          Overcast\n",
      "3  A-4 2016-02-08 07:23:34    OH         3     Mostly Cloudy\n",
      "4  A-5 2016-02-08 07:39:07    OH         2     Mostly Cloudy\n",
      "\n",
      "📋 Available columns:\n",
      "   1. ID\n",
      "   2. Source\n",
      "   3. Severity\n",
      "   4. Start_Time\n",
      "   5. End_Time\n",
      "   6. Start_Lat\n",
      "   7. Start_Lng\n",
      "   8. End_Lat\n",
      "   9. End_Lng\n",
      "  10. Distance(mi)\n",
      "  11. Description\n",
      "  12. Street\n",
      "  13. City\n",
      "  14. County\n",
      "  15. State\n",
      "  16. Zipcode\n",
      "  17. Country\n",
      "  18. Timezone\n",
      "  19. Airport_Code\n",
      "  20. Weather_Timestamp\n",
      "  21. Temperature(F)\n",
      "  22. Wind_Chill(F)\n",
      "  23. Humidity(%)\n",
      "  24. Pressure(in)\n",
      "  25. Visibility(mi)\n",
      "  26. Wind_Direction\n",
      "  27. Wind_Speed(mph)\n",
      "  28. Precipitation(in)\n",
      "  29. Weather_Condition\n",
      "  30. Amenity\n",
      "  31. Bump\n",
      "  32. Crossing\n",
      "  33. Give_Way\n",
      "  34. Junction\n",
      "  35. No_Exit\n",
      "  36. Railway\n",
      "  37. Roundabout\n",
      "  38. Station\n",
      "  39. Stop\n",
      "  40. Traffic_Calming\n",
      "  41. Traffic_Signal\n",
      "  42. Turning_Loop\n",
      "  43. Sunrise_Sunset\n",
      "  44. Civil_Twilight\n",
      "  45. Nautical_Twilight\n",
      "  46. Astronomical_Twilight\n"
     ]
    }
   ],
   "source": [
    "# Run the preprocessing script:\n",
    "! python /Users/anemos/Desktop/us-accidents-risk/scripts/data_processing.py"
   ]
  },
  {
   "cell_type": "code",
   "execution_count": 31,
   "id": "18c0b3fb",
   "metadata": {},
   "outputs": [
    {
     "name": "stdout",
     "output_type": "stream",
     "text": [
      "Analyzing file: ../data/US_Accidents_March23.csv\n",
      "Loading data for risk analysis...\n",
      "✅ Data loaded!\n",
      "\n",
      "============================================================\n",
      "RISK ANALYSIS SUMMARY REPORT\n",
      "============================================================\n",
      "Total accidents in dataset: 7,728,394\n",
      "Data covers: 2016 - 2023\n",
      "\n",
      "Top 10 states by total accidents:\n",
      "   1. CA: 1,741,433\n",
      "   2. FL: 880,192\n",
      "   3. TX: 582,837\n",
      "   4. SC: 382,557\n",
      "   5. NY: 347,960\n",
      "   6. NC: 338,199\n",
      "   7. VA: 303,301\n",
      "   8. PA: 296,620\n",
      "   9. MN: 192,084\n",
      "  10. OR: 179,660\n",
      "\n",
      "Severity distribution:\n",
      "  Severity 1: 67,366 (0.9%)\n",
      "  Severity 2: 6,156,981 (79.7%)\n",
      "  Severity 3: 1,299,337 (16.8%)\n",
      "  Severity 4: 204,710 (2.6%)\n",
      "\n",
      "Saving results to ../data/processed...\n",
      "Computing risk metrics...\n",
      "✅ Computed risk metrics: 25,730 records\n",
      "  Saved risk_metrics: 25,730 records -> ../data/processed/risk_metrics.csv\n",
      "  Saved detailed_risk_metrics: 66,678 records -> ../data/processed/detailed_risk_metrics.csv\n",
      "  Saved annual_state_totals: 388 records -> ../data/processed/annual_state_totals.csv\n",
      "  Saved severity_trends: 30 records -> ../data/processed/severity_trends.csv\n",
      "  Saved weather_by_state: 245 records -> ../data/processed/weather_by_state.csv\n",
      "  Saved time_patterns: 14,411 records -> ../data/processed/time_patterns.csv\n",
      "\n",
      "✅ Risk analysis completed successfully!\n",
      "   Results saved to ../data/processed/\n"
     ]
    }
   ],
   "source": [
    "# Run the risk analysis script:\n",
    "! python /Users/anemos/Desktop/us-accidents-risk/scripts/risk_analysis.py"
   ]
  },
  {
   "cell_type": "code",
   "execution_count": 7,
   "id": "085cbf7a",
   "metadata": {},
   "outputs": [
    {
     "name": "stdout",
     "output_type": "stream",
     "text": [
      "Libraries imported successfully!\n"
     ]
    }
   ],
   "source": [
    "# Import required libraries\n",
    "import pandas as pd\n",
    "import numpy as np\n",
    "import matplotlib.pyplot as plt\n",
    "import seaborn as sns\n",
    "import plotly.express as px\n",
    "import plotly.graph_objects as go\n",
    "from plotly.subplots import make_subplots\n",
    "import duckdb\n",
    "from pathlib import Path\n",
    "import warnings\n",
    "warnings.filterwarnings('ignore')\n",
    "\n",
    "# Set style for matplotlib\n",
    "plt.style.use('seaborn-v0_8')\n",
    "sns.set_palette(\"husl\")\n",
    "\n",
    "# Configure pandas display options\n",
    "pd.set_option('display.max_columns', None)\n",
    "pd.set_option('display.max_rows', 20)\n",
    "\n",
    "print(\"Libraries imported successfully!\")"
   ]
  },
  {
   "cell_type": "code",
   "execution_count": 10,
   "id": "2d323210",
   "metadata": {},
   "outputs": [
    {
     "name": "stdout",
     "output_type": "stream",
     "text": [
      "Found processed data! Loading pre-computed metrics...\n",
      "✅ Processed data loaded successfully!\n",
      "   - Risk metrics: 26,721 records\n",
      "   - Annual totals: 388 records\n",
      "   - Time patterns: 14,411 records\n"
     ]
    }
   ],
   "source": [
    "# Data Loading Strategy\n",
    "\n",
    "# Define data paths\n",
    "data_dir = Path(\"../data\")\n",
    "processed_dir = Path(\"../data/processed\")\n",
    "\n",
    "# Check if we have processed data from risk_analysis.py\n",
    "if processed_dir.exists() and list(processed_dir.glob(\"*.csv\")):\n",
    "    print(\"Found processed data! Loading pre-computed metrics...\")\n",
    "    \n",
    "    # Load pre-computed metrics (much faster)\n",
    "    risk_metrics = pd.read_csv(processed_dir / \"risk_metrics.csv\")\n",
    "    annual_totals = pd.read_csv(processed_dir / \"annual_state_totals.csv\")\n",
    "    severity_trends = pd.read_csv(processed_dir / \"severity_trends.csv\")\n",
    "    weather_by_state = pd.read_csv(processed_dir / \"weather_by_state.csv\")\n",
    "    time_patterns = pd.read_csv(processed_dir / \"time_patterns.csv\")\n",
    "    \n",
    "    print(\"✅ Processed data loaded successfully!\")\n",
    "    print(f\"   - Risk metrics: {len(risk_metrics):,} records\")\n",
    "    print(f\"   - Annual totals: {len(annual_totals):,} records\")\n",
    "    print(f\"   - Time patterns: {len(time_patterns):,} records\")\n",
    "    \n",
    "    data_source = \"processed\"\n",
    "    \n",
    "else:\n",
    "    print(\"⚠️  Processed data not found. Loading raw data with DuckDB...\")\n",
    "    print(\"   (This may take a few minutes for large datasets)\")\n",
    "    \n",
    "    # Find the raw CSV file\n",
    "    csv_files = list(data_dir.glob(\"*.csv\"))\n",
    "    if not csv_files:\n",
    "        raise FileNotFoundError(\"❌ No CSV files found. Please run download_data.py first!\")\n",
    "    \n",
    "    data_file = csv_files[0]\n",
    "    print(f\"Loading: {data_file.name}\")\n",
    "    \n",
    "    # Connect to DuckDB and load data\n",
    "    conn = duckdb.connect()\n",
    "    conn.execute(f\"CREATE TABLE accidents AS SELECT * FROM read_csv_auto('{data_file}')\")\n",
    "    \n",
    "    print(\"✅ Raw data loaded into DuckDB!\")\n",
    "    data_source = \"raw\""
   ]
  },
  {
   "cell_type": "code",
   "execution_count": 12,
   "id": "1babc56b",
   "metadata": {},
   "outputs": [
    {
     "name": "stdout",
     "output_type": "stream",
     "text": [
      "============================================================\n",
      "DATASET OVERVIEW\n",
      "============================================================\n",
      "Total accidents analyzed: 7,728,394\n",
      "Time period: 2016 - 2023\n",
      "States covered: 49\n",
      "Years of data: 8\n",
      "\n",
      "Sample of annual totals data:\n",
      "   year State  total_accidents\n",
      "0  2016    CA           140452\n",
      "1  2016    TX            49769\n",
      "2  2016    FL            37060\n",
      "3  2016    PA            21232\n",
      "4  2016    NY            20097\n",
      "\n",
      "✅ Data overview completed!\n",
      "Using processed data for analysis\n"
     ]
    }
   ],
   "source": [
    "# Quick Data Overview\n",
    "\n",
    "print(\"=\"*60)\n",
    "print(\"DATASET OVERVIEW\")\n",
    "print(\"=\"*60)\n",
    "\n",
    "if data_source == \"processed\":\n",
    "    # Using processed data\n",
    "    total_accidents = annual_totals['total_accidents'].sum()\n",
    "    year_range = f\"{annual_totals['year'].min():.0f} - {annual_totals['year'].max():.0f}\"\n",
    "    num_states = annual_totals['State'].nunique()\n",
    "    num_years = annual_totals['year'].nunique()\n",
    "    \n",
    "    print(f\"Total accidents analyzed: {total_accidents:,}\")\n",
    "    print(f\"Time period: {year_range}\")\n",
    "    print(f\"States covered: {num_states}\")\n",
    "    print(f\"Years of data: {num_years}\")\n",
    "    \n",
    "    # Show sample of the data\n",
    "    print(f\"\\nSample of annual totals data:\")\n",
    "    print(annual_totals.head())\n",
    "    \n",
    "else:\n",
    "    # Using raw data\n",
    "    total_records = conn.execute(\"SELECT COUNT(*) FROM accidents\").fetchone()[0]\n",
    "    print(f\"Total records in dataset: {total_records:,}\")\n",
    "    \n",
    "    # Get basic info about the raw data\n",
    "    date_range = conn.execute(\"\"\"\n",
    "        SELECT MIN(Start_Time) as min_date, MAX(Start_Time) as max_date\n",
    "        FROM accidents WHERE Start_Time IS NOT NULL\n",
    "    \"\"\").fetchone()\n",
    "    \n",
    "    num_states = conn.execute(\"\"\"\n",
    "        SELECT COUNT(DISTINCT State) as unique_states\n",
    "        FROM accidents WHERE State IS NOT NULL AND State != ''\n",
    "    \"\"\").fetchone()[0]\n",
    "    \n",
    "    print(f\"Date range: {date_range[0]} to {date_range[1]}\")\n",
    "    print(f\" States covered: {num_states}\")\n",
    "    \n",
    "    # Show sample of raw data\n",
    "    sample_data = conn.execute(\"\"\"\n",
    "        SELECT ID, Start_Time, State, Severity, Weather_Condition\n",
    "        FROM accidents LIMIT 5\n",
    "    \"\"\").fetchdf()\n",
    "    \n",
    "    print(f\"\\nSample of raw data:\")\n",
    "    print(sample_data)\n",
    "\n",
    "print(f\"\\n✅ Data overview completed!\")\n",
    "print(f\"Using {data_source} data for analysis\")"
   ]
  },
  {
   "cell_type": "code",
   "execution_count": 16,
   "id": "4a92f330",
   "metadata": {},
   "outputs": [
    {
     "name": "stdout",
     "output_type": "stream",
     "text": [
      "============================================================\n",
      "1. ANALYZING ACCIDENT TRENDS OVER TIME\n",
      "============================================================\n",
      "Yearly accident totals:\n",
      "   2016: 410,821 accidents\n",
      "   2017: 718,093 accidents\n",
      "   2018: 893,426 accidents\n",
      "   2019: 954,303 accidents\n",
      "   2020: 1,178,913 accidents\n",
      "   2021: 1,563,753 accidents\n",
      "   2022: 1,762,452 accidents\n",
      "   2023: 246,633 accidents\n",
      "\n",
      "Year-over-year percentage changes:\n",
      "   2017: +74.8%\n",
      "   2018: +24.4%\n",
      "   2019: +6.8%\n",
      "   2020: +23.5%\n",
      "   2021: +32.6%\n",
      "   2022: +12.7%\n",
      "   2023: -86.0%\n"
     ]
    },
    {
     "data": {
      "image/png": "[encoded data removed]",
      "text/plain": [
       "<Figure size 1200x800 with 2 Axes>"
      ]
     },
     "metadata": {},
     "output_type": "display_data"
    },
    {
     "name": "stdout",
     "output_type": "stream",
     "text": [
      "\n",
      "KEY INSIGHTS:\n",
      "   Peak year: 2022 with 1,762,452.0 accidents\n",
      "   Lowest year: 2023 with 246,633.0 accidents\n",
      "   📈 Biggest increase: 2017 (+74.8%)\n",
      "   📉 Biggest decrease: 2023 (-86.0%)\n"
     ]
    }
   ],
   "source": [
    "# Accident Trends Over Time\n",
    "\n",
    "print(\"=\"*60)\n",
    "print(\"1. ANALYZING ACCIDENT TRENDS OVER TIME\")\n",
    "print(\"=\"*60)\n",
    "\n",
    "# Get yearly accident totals\n",
    "if data_source == \"processed\":\n",
    "    # Use pre-computed data\n",
    "    yearly_totals = annual_totals.groupby('year')['total_accidents'].sum().reset_index()\n",
    "else:\n",
    "    # Query from raw data\n",
    "    yearly_totals = conn.execute(\"\"\"\n",
    "        SELECT \n",
    "            EXTRACT(year FROM Start_Time::TIMESTAMP) as year,\n",
    "            COUNT(*) as total_accidents\n",
    "        FROM accidents \n",
    "        WHERE Start_Time IS NOT NULL\n",
    "        GROUP BY year\n",
    "        ORDER BY year\n",
    "    \"\"\").fetchdf()\n",
    "\n",
    "print(f\"Yearly accident totals:\")\n",
    "for _, row in yearly_totals.iterrows():\n",
    "    print(f\"   {row['year']:.0f}: {row['total_accidents']:,} accidents\")\n",
    "\n",
    "# Calculate year-over-year changes\n",
    "yearly_totals['yoy_change'] = yearly_totals['total_accidents'].pct_change() * 100\n",
    "yearly_totals['yoy_absolute'] = yearly_totals['total_accidents'].diff()\n",
    "\n",
    "print(f\"\\nYear-over-year percentage changes:\")\n",
    "for _, row in yearly_totals.iterrows():\n",
    "    if pd.notna(row['yoy_change']):\n",
    "        print(f\"   {row['year']:.0f}: {row['yoy_change']:+.1f}%\")\n",
    "\n",
    "# Create the time series plot\n",
    "plt.figure(figsize=(12, 8))\n",
    "\n",
    "# Main line plot\n",
    "plt.subplot(2, 1, 1)\n",
    "plt.plot(yearly_totals['year'], yearly_totals['total_accidents'], \n",
    "         marker='o', linewidth=3, markersize=8, color='#2E86AB')\n",
    "plt.title('Total Accidents by Year (2016-2023)', fontsize=16, fontweight='bold', pad=20)\n",
    "plt.xlabel('Year', fontsize=12)\n",
    "plt.ylabel('Number of Accidents', fontsize=12)\n",
    "plt.grid(True, alpha=0.3)\n",
    "\n",
    "# Add value labels on points\n",
    "for x, y in zip(yearly_totals['year'], yearly_totals['total_accidents']):\n",
    "    plt.annotate(f'{y:,.0f}', (x, y), textcoords=\"offset points\", \n",
    "                xytext=(0,15), ha='center', fontsize=10, fontweight='bold')\n",
    "\n",
    "# Year-over-year change plot\n",
    "plt.subplot(2, 1, 2)\n",
    "colors = ['red' if x < 0 else 'green' for x in yearly_totals['yoy_change'][1:]]\n",
    "plt.bar(yearly_totals['year'][1:], yearly_totals['yoy_change'][1:], color=colors, alpha=0.7)\n",
    "plt.title('Year-over-Year Percentage Change', fontsize=14, fontweight='bold')\n",
    "plt.xlabel('Year', fontsize=12)\n",
    "plt.ylabel('Change (%)', fontsize=12)\n",
    "plt.grid(True, alpha=0.3)\n",
    "plt.axhline(y=0, color='black', linestyle='-', alpha=0.5)\n",
    "\n",
    "# Add percentage labels\n",
    "for i, (x, y) in enumerate(zip(yearly_totals['year'][1:], yearly_totals['yoy_change'][1:])):\n",
    "    plt.annotate(f'{y:+.1f}%', (x, y), textcoords=\"offset points\", \n",
    "                xytext=(0,10 if y > 0 else -15), ha='center', fontsize=9)\n",
    "\n",
    "plt.tight_layout()\n",
    "plt.show()\n",
    "\n",
    "# Identify key insights\n",
    "peak_year = yearly_totals.loc[yearly_totals['total_accidents'].idxmax()]\n",
    "lowest_year = yearly_totals.loc[yearly_totals['total_accidents'].idxmin()]\n",
    "biggest_increase = yearly_totals.loc[yearly_totals['yoy_change'].idxmax()]\n",
    "biggest_decrease = yearly_totals.loc[yearly_totals['yoy_change'].idxmin()]\n",
    "\n",
    "print(f\"\\nKEY INSIGHTS:\")\n",
    "print(f\"   Peak year: {peak_year['year']:.0f} with {peak_year['total_accidents']:,} accidents\")\n",
    "print(f\"   Lowest year: {lowest_year['year']:.0f} with {lowest_year['total_accidents']:,} accidents\")\n",
    "if pd.notna(biggest_increase['yoy_change']):\n",
    "    print(f\"   📈 Biggest increase: {biggest_increase['year']:.0f} (+{biggest_increase['yoy_change']:.1f}%)\")\n",
    "if pd.notna(biggest_decrease['yoy_change']):\n",
    "    print(f\"   📉 Biggest decrease: {biggest_decrease['year']:.0f} ({biggest_decrease['yoy_change']:.1f}%)\")\n",
    "\n",
    "# Store for later use\n",
    "globals()['yearly_totals'] = yearly_totals"
   ]
  },
  {
   "cell_type": "code",
   "execution_count": 18,
   "id": "11c31d4c",
   "metadata": {},
   "outputs": [
    {
     "name": "stdout",
     "output_type": "stream",
     "text": [
      "============================================================\n",
      "2. GEOGRAPHIC ANALYSIS - STATE PATTERNS\n",
      "============================================================\n",
      "TOP 15 STATES BY TOTAL ACCIDENTS:\n",
      "    1. CA: 1,741,433 accidents\n",
      "    2. FL: 880,192 accidents\n",
      "    3. TX: 582,837 accidents\n",
      "    4. SC: 382,557 accidents\n",
      "    5. NY: 347,960 accidents\n",
      "    6. NC: 338,199 accidents\n",
      "    7. VA: 303,301 accidents\n",
      "    8. PA: 296,620 accidents\n",
      "    9. MN: 192,084 accidents\n",
      "   10. OR: 179,660 accidents\n",
      "   11. AZ: 170,609 accidents\n",
      "   12. GA: 169,234 accidents\n",
      "   13. IL: 168,958 accidents\n",
      "   14. TN: 167,388 accidents\n",
      "   15. MI: 162,191 accidents\n",
      "\n",
      "SUMMARY STATISTICS:\n",
      "   • Total states: 49\n",
      "   • Mean accidents per state: 157,722\n",
      "   • Median accidents per state: 77,323\n",
      "   • Most accidents (CA): 1,741,433\n",
      "   • Fewest accidents: 289\n"
     ]
    },
    {
     "data": {
      "image/png": "[encoded data removed]",
      "text/plain": [
       "<Figure size 1600x1200 with 4 Axes>"
      ]
     },
     "metadata": {},
     "output_type": "display_data"
    },
    {
     "name": "stdout",
     "output_type": "stream",
     "text": [
      "\n",
      "CONCENTRATION INSIGHTS:\n",
      "   • Top 5 states account for 50.9% of all accidents\n",
      "   • Top 10 states account for 67.9% of all accidents\n",
      "   • Just 5 states account for 50% of all accidents\n",
      "   • 16 states account for 80% of all accidents\n"
     ]
    }
   ],
   "source": [
    "# Geographic Analysis - State-Level Patterns\n",
    "\n",
    "print(\"=\"*60)\n",
    "print(\"2. GEOGRAPHIC ANALYSIS - STATE PATTERNS\")\n",
    "print(\"=\"*60)\n",
    "\n",
    "# Get state-level totals\n",
    "if data_source == \"processed\":\n",
    "    state_totals = annual_totals.groupby('State')['total_accidents'].sum().sort_values(ascending=False)\n",
    "else:\n",
    "    state_totals = conn.execute(\"\"\"\n",
    "        SELECT State, COUNT(*) as total_accidents\n",
    "        FROM accidents \n",
    "        WHERE State IS NOT NULL AND State != ''\n",
    "        GROUP BY State \n",
    "        ORDER BY total_accidents DESC\n",
    "    \"\"\").fetchdf().set_index('State')['total_accidents']\n",
    "\n",
    "print(f\"TOP 15 STATES BY TOTAL ACCIDENTS:\")\n",
    "top_15_states = state_totals.head(15)\n",
    "for i, (state, count) in enumerate(top_15_states.items(), 1):\n",
    "    print(f\"   {i:2d}. {state}: {count:,} accidents\")\n",
    "\n",
    "print(f\"\\nSUMMARY STATISTICS:\")\n",
    "print(f\"   • Total states: {len(state_totals)}\")\n",
    "print(f\"   • Mean accidents per state: {state_totals.mean():,.0f}\")\n",
    "print(f\"   • Median accidents per state: {state_totals.median():,.0f}\")\n",
    "print(f\"   • Most accidents (CA): {state_totals.max():,}\")\n",
    "print(f\"   • Fewest accidents: {state_totals.min():,}\")\n",
    "\n",
    "# Create visualizations\n",
    "fig, axes = plt.subplots(2, 2, figsize=(16, 12))\n",
    "\n",
    "# 1. Top 15 states bar chart\n",
    "axes[0,0].barh(range(len(top_15_states)), top_15_states.values, color='skyblue')\n",
    "axes[0,0].set_yticks(range(len(top_15_states)))\n",
    "axes[0,0].set_yticklabels(top_15_states.index)\n",
    "axes[0,0].set_xlabel('Number of Accidents')\n",
    "axes[0,0].set_title('Top 15 States by Total Accidents', fontweight='bold')\n",
    "axes[0,0].grid(True, alpha=0.3, axis='x')\n",
    "\n",
    "# Add value labels\n",
    "for i, v in enumerate(top_15_states.values):\n",
    "    axes[0,0].text(v + max(top_15_states.values)*0.01, i, f'{v:,}', \n",
    "                   va='center', fontsize=9)\n",
    "\n",
    "# 2. Distribution histogram\n",
    "axes[0,1].hist(state_totals.values, bins=20, color='lightcoral', alpha=0.7, edgecolor='black')\n",
    "axes[0,1].set_xlabel('Number of Accidents')\n",
    "axes[0,1].set_ylabel('Number of States')\n",
    "axes[0,1].set_title('Distribution of Accidents Across States', fontweight='bold')\n",
    "axes[0,1].grid(True, alpha=0.3)\n",
    "\n",
    "# Add mean line\n",
    "axes[0,1].axvline(state_totals.mean(), color='red', linestyle='--', \n",
    "                  label=f'Mean: {state_totals.mean():,.0f}')\n",
    "axes[0,1].legend()\n",
    "\n",
    "# 3. Top 10 states with percentage of total\n",
    "top_10_states = state_totals.head(10)\n",
    "total_all_accidents = state_totals.sum()\n",
    "percentages = (top_10_states / total_all_accidents * 100)\n",
    "\n",
    "axes[1,0].pie(percentages.values, labels=percentages.index, autopct='%1.1f%%', \n",
    "              startangle=90, colors=plt.cm.Set3.colors)\n",
    "axes[1,0].set_title('Top 10 States - Share of Total Accidents', fontweight='bold')\n",
    "\n",
    "# 4. Accident concentration analysis\n",
    "cumulative_pct = (state_totals.cumsum() / state_totals.sum() * 100)\n",
    "axes[1,1].plot(range(1, len(cumulative_pct)+1), cumulative_pct.values, \n",
    "               marker='o', linewidth=2, markersize=4)\n",
    "axes[1,1].set_xlabel('Number of States (Ranked)')\n",
    "axes[1,1].set_ylabel('Cumulative % of Total Accidents')\n",
    "axes[1,1].set_title('Accident Concentration Curve', fontweight='bold')\n",
    "axes[1,1].grid(True, alpha=0.3)\n",
    "\n",
    "# Add reference lines for key insights\n",
    "top_5_pct = cumulative_pct.iloc[4]  # Top 5 states\n",
    "top_10_pct = cumulative_pct.iloc[9]  # Top 10 states\n",
    "axes[1,1].axhline(y=50, color='red', linestyle='--', alpha=0.7, label='50% of accidents')\n",
    "axes[1,1].axhline(y=80, color='orange', linestyle='--', alpha=0.7, label='80% of accidents')\n",
    "axes[1,1].legend()\n",
    "\n",
    "plt.tight_layout()\n",
    "plt.show()\n",
    "\n",
    "# Calculate concentration insights\n",
    "states_for_50pct = (cumulative_pct <= 50).sum() + 1\n",
    "states_for_80pct = (cumulative_pct <= 80).sum() + 1\n",
    "\n",
    "print(f\"\\nCONCENTRATION INSIGHTS:\")\n",
    "print(f\"   • Top 5 states account for {top_5_pct:.1f}% of all accidents\")\n",
    "print(f\"   • Top 10 states account for {top_10_pct:.1f}% of all accidents\")\n",
    "print(f\"   • Just {states_for_50pct} states account for 50% of all accidents\")\n",
    "print(f\"   • {states_for_80pct} states account for 80% of all accidents\")\n",
    "\n",
    "# Store for later use\n",
    "globals()['state_totals'] = state_totals\n",
    "globals()['top_10_states'] = top_10_states.index.tolist()"
   ]
  },
  {
   "cell_type": "code",
   "execution_count": 20,
   "id": "f9de46db",
   "metadata": {},
   "outputs": [
    {
     "name": "stdout",
     "output_type": "stream",
     "text": [
      "============================================================\n",
      "3. WEATHER CONDITIONS ANALYSIS\n",
      "============================================================\n",
      "🌤️  TOP 10 WEATHER CONDITIONS (Overall):\n",
      "    1. Fair: 2,560,802 (43.0%)\n",
      "    2. Mostly Cloudy: 1,015,368 (17.1%)\n",
      "    3. Clear: 802,151 (13.5%)\n",
      "    4. Cloudy: 800,955 (13.5%)\n",
      "    5. Partly Cloudy: 612,315 (10.3%)\n",
      "    6. Overcast: 80,285 (1.3%)\n",
      "    7. Light Rain: 44,823 (0.8%)\n",
      "    8. Light Snow: 34,979 (0.6%)\n",
      "    9. Scattered Clouds: 2,723 (0.0%)\n",
      "   10. Fair / Windy: 255 (0.0%)\n"
     ]
    },
    {
     "data": {
      "image/png": "[encoded data removed]",
      "text/plain": [
       "<Figure size 1600x1200 with 5 Axes>"
      ]
     },
     "metadata": {},
     "output_type": "display_data"
    },
    {
     "name": "stdout",
     "output_type": "stream",
     "text": [
      "\n",
      "MOST COMMON WEATHER CONDITION BY STATE (Top 10 States):\n",
      "   CA: Fair (772,394 accidents)\n",
      "   FL: Fair (316,249 accidents)\n",
      "   MN: Fair (58,458 accidents)\n",
      "   NC: Fair (89,292 accidents)\n",
      "   NY: Fair (81,307 accidents)\n",
      "   OR: Fair (48,708 accidents)\n",
      "   PA: Fair (92,802 accidents)\n",
      "   SC: Fair (144,992 accidents)\n",
      "   TX: Fair (149,144 accidents)\n",
      "   VA: Fair (102,762 accidents)\n",
      "\n",
      " WEATHER INSIGHTS:\n",
      "   • 10 states have clear weather as most common accident condition\n",
      "   • 0 states have cloudy weather as most common accident condition\n",
      "   • Weather diversity ranges from 5 to 5 conditions per state\n",
      "   • Clear weather dominates in: CA, FL, MN, NC, NY...\n"
     ]
    }
   ],
   "source": [
    "# Weather Conditions Analysis\n",
    "\n",
    "print(\"=\"*60)\n",
    "print(\"3. WEATHER CONDITIONS ANALYSIS\")\n",
    "print(\"=\"*60)\n",
    "\n",
    "# Get weather data\n",
    "if data_source == \"processed\":\n",
    "    weather_data = weather_by_state.copy()\n",
    "else:\n",
    "    weather_data = conn.execute(\"\"\"\n",
    "        WITH weather_counts AS (\n",
    "            SELECT \n",
    "                State,\n",
    "                Weather_Condition,\n",
    "                COUNT(*) as accident_count,\n",
    "                ROW_NUMBER() OVER (PARTITION BY State ORDER BY COUNT(*) DESC) as rn\n",
    "            FROM accidents \n",
    "            WHERE State IS NOT NULL AND State != ''\n",
    "                AND Weather_Condition IS NOT NULL AND Weather_Condition != ''\n",
    "            GROUP BY State, Weather_Condition\n",
    "        )\n",
    "        SELECT State, Weather_Condition, accident_count\n",
    "        FROM weather_counts \n",
    "        WHERE rn <= 5  -- Top 5 per state\n",
    "        ORDER BY State, accident_count DESC\n",
    "    \"\"\").fetchdf()\n",
    "\n",
    "# Overall weather condition analysis\n",
    "overall_weather = weather_data.groupby('Weather_Condition')['accident_count'].sum().sort_values(ascending=False)\n",
    "\n",
    "print(f\"🌤️  TOP 10 WEATHER CONDITIONS (Overall):\")\n",
    "top_weather = overall_weather.head(10)\n",
    "total_weather_accidents = overall_weather.sum()\n",
    "\n",
    "for i, (weather, count) in enumerate(top_weather.items(), 1):\n",
    "    pct = (count / total_weather_accidents) * 100\n",
    "    print(f\"   {i:2d}. {weather}: {count:,} ({pct:.1f}%)\")\n",
    "\n",
    "# Focus on top 10 states for detailed analysis\n",
    "if 'top_10_states' in globals():\n",
    "    weather_top_states = weather_data[weather_data['State'].isin(top_10_states)]\n",
    "else:\n",
    "    # Get top 10 states if not already calculated\n",
    "    if data_source == \"processed\":\n",
    "        top_states_list = annual_totals.groupby('State')['total_accidents'].sum().nlargest(10).index.tolist()\n",
    "    else:\n",
    "        top_states_list = conn.execute(\"\"\"\n",
    "            SELECT State FROM (\n",
    "                SELECT State, COUNT(*) as total\n",
    "                FROM accidents WHERE State IS NOT NULL AND State != ''\n",
    "                GROUP BY State ORDER BY total DESC LIMIT 10\n",
    "            )\n",
    "        \"\"\").fetchdf()['State'].tolist()\n",
    "    \n",
    "    weather_top_states = weather_data[weather_data['State'].isin(top_states_list)]\n",
    "\n",
    "# Create weather analysis visualizations\n",
    "fig, axes = plt.subplots(2, 2, figsize=(16, 12))\n",
    "\n",
    "# 1. Overall weather conditions bar chart\n",
    "axes[0,0].barh(range(len(top_weather)), top_weather.values, color='lightblue')\n",
    "axes[0,0].set_yticks(range(len(top_weather)))\n",
    "axes[0,0].set_yticklabels([label[:20] + '...' if len(label) > 20 else label \n",
    "                          for label in top_weather.index])\n",
    "axes[0,0].set_xlabel('Number of Accidents')\n",
    "axes[0,0].set_title('Top 10 Weather Conditions (All States)', fontweight='bold')\n",
    "axes[0,0].grid(True, alpha=0.3, axis='x')\n",
    "\n",
    "# 2. Heatmap of weather vs states (top states only)\n",
    "weather_pivot = weather_top_states.pivot_table(\n",
    "    values='accident_count', \n",
    "    index='State', \n",
    "    columns='Weather_Condition', \n",
    "    fill_value=0\n",
    ")\n",
    "\n",
    "# Select top weather conditions for the heatmap (to avoid clutter)\n",
    "top_weather_conditions = weather_top_states.groupby('Weather_Condition')['accident_count'].sum().nlargest(8).index\n",
    "weather_pivot_filtered = weather_pivot[top_weather_conditions]\n",
    "\n",
    "im = axes[0,1].imshow(weather_pivot_filtered.values, cmap='YlOrRd', aspect='auto')\n",
    "axes[0,1].set_xticks(range(len(weather_pivot_filtered.columns)))\n",
    "axes[0,1].set_xticklabels([col[:15] + '...' if len(col) > 15 else col \n",
    "                          for col in weather_pivot_filtered.columns], rotation=45, ha='right')\n",
    "axes[0,1].set_yticks(range(len(weather_pivot_filtered.index)))\n",
    "axes[0,1].set_yticklabels(weather_pivot_filtered.index)\n",
    "axes[0,1].set_title('Weather Conditions Heatmap (Top States)', fontweight='bold')\n",
    "\n",
    "# Add colorbar\n",
    "plt.colorbar(im, ax=axes[0,1], label='Number of Accidents')\n",
    "\n",
    "# 3. Most common weather by state\n",
    "most_common_weather = weather_top_states.loc[\n",
    "    weather_top_states.groupby('State')['accident_count'].idxmax()\n",
    "]\n",
    "\n",
    "state_weather_counts = most_common_weather.groupby('Weather_Condition').size()\n",
    "axes[1,0].pie(state_weather_counts.values, labels=state_weather_counts.index, \n",
    "              autopct='%1.0f states', startangle=90, colors=plt.cm.Set2.colors)\n",
    "axes[1,0].set_title('Most Common Weather Condition by State\\n(What weather dominates in each state?)', \n",
    "                    fontweight='bold')\n",
    "\n",
    "# 4. Weather diversity by state\n",
    "weather_diversity = weather_top_states.groupby('State').size()\n",
    "axes[1,1].bar(weather_diversity.index, weather_diversity.values, color='lightgreen', alpha=0.7)\n",
    "axes[1,1].set_xlabel('State')\n",
    "axes[1,1].set_ylabel('Number of Different Weather Conditions')\n",
    "axes[1,1].set_title('Weather Condition Diversity by State', fontweight='bold')\n",
    "axes[1,1].tick_params(axis='x', rotation=45)\n",
    "axes[1,1].grid(True, alpha=0.3, axis='y')\n",
    "\n",
    "plt.tight_layout()\n",
    "plt.show()\n",
    "\n",
    "# Detailed state-weather analysis\n",
    "print(f\"\\nMOST COMMON WEATHER CONDITION BY STATE (Top 10 States):\")\n",
    "for _, row in most_common_weather.iterrows():\n",
    "    print(f\"   {row['State']}: {row['Weather_Condition']} ({row['accident_count']:,} accidents)\")\n",
    "\n",
    "# Weather insights\n",
    "clear_weather_states = most_common_weather[\n",
    "    most_common_weather['Weather_Condition'].str.contains('Clear|Fair', case=False, na=False)\n",
    "]['State'].tolist()\n",
    "\n",
    "cloudy_weather_states = most_common_weather[\n",
    "    most_common_weather['Weather_Condition'].str.contains('Cloud|Overcast', case=False, na=False)\n",
    "]['State'].tolist()\n",
    "\n",
    "print(f\"\\n WEATHER INSIGHTS:\")\n",
    "print(f\"   • {len(clear_weather_states)} states have clear weather as most common accident condition\")\n",
    "print(f\"   • {len(cloudy_weather_states)} states have cloudy weather as most common accident condition\")\n",
    "print(f\"   • Weather diversity ranges from {weather_diversity.min()} to {weather_diversity.max()} conditions per state\")\n",
    "\n",
    "if clear_weather_states:\n",
    "    print(f\"   • Clear weather dominates in: {', '.join(clear_weather_states[:5])}{'...' if len(clear_weather_states) > 5 else ''}\")\n",
    "\n",
    "# Store for later use\n",
    "globals()['weather_data'] = weather_data\n",
    "globals()['top_weather'] = top_weather"
   ]
  },
  {
   "cell_type": "code",
   "execution_count": 37,
   "id": "f8b7405b",
   "metadata": {},
   "outputs": [
    {
     "name": "stdout",
     "output_type": "stream",
     "text": [
      "============================================================\n",
      "4. ACCIDENT SEVERITY ANALYSIS\n",
      "============================================================\n",
      " OVERALL SEVERITY DISTRIBUTION:\n",
      "   Severity 1 (Minor): 67,366 accidents (0.9%)\n",
      "   Severity 2 (Moderate): 6,156,981 accidents (79.7%)\n",
      "   Severity 3 (Serious): 1,299,337 accidents (16.8%)\n",
      "   Severity 4 (Severe): 204,710 accidents (2.6%)\n",
      "\n",
      "SEVERITY DISTRIBUTION FOR 2023:\n",
      "   Severity 2: 239,572 (97.1%)\n",
      "   Severity 4: 7,061 (2.9%)\n"
     ]
    },
    {
     "data": {
      "image/png": "[encoded data removed]",
      "text/plain": [
       "<Figure size 1600x1200 with 4 Axes>"
      ]
     },
     "metadata": {},
     "output_type": "display_data"
    },
    {
     "name": "stdout",
     "output_type": "stream",
     "text": [
      "\n",
      "SEVERITY TRENDS ANALYSIS (2016 to 2023):\n",
      "   Severity 1: 225 (2016) → 37,875 (2022) (+16733.3%) ↑\n",
      "      Data available for 7/8 years\n",
      "   Severity 2: 270,026 (2016) → 239,572 (2023) (-11.3%) ↓\n",
      "      Data available for 8/8 years\n",
      "   Severity 3: 126,215 (2016) → 77,957 (2022) (-38.2%) ↓\n",
      "      Data available for 7/8 years\n",
      "   Severity 4: 14,355 (2016) → 7,061 (2023) (-50.8%) ↓\n",
      "      Data available for 8/8 years\n",
      "\n",
      "STATES WITH HIGHEST SEVERE ACCIDENT RATES (Severity 3+4):\n",
      "   RI: 46.2% severe accidents\n",
      "   GA: 43.7% severe accidents\n",
      "   KY: 42.5% severe accidents\n",
      "   WI: 37.7% severe accidents\n",
      "   CO: 37.2% severe accidents\n",
      "   IL: 36.7% severe accidents\n",
      "   MO: 36.6% severe accidents\n",
      "   IA: 34.3% severe accidents\n",
      "   VT: 33.2% severe accidents\n",
      "   NM: 33.1% severe accidents\n",
      "\n",
      "STATES WITH LOWEST SEVERE ACCIDENT RATES (Severity 3+4):\n",
      "   ND: 0.9% severe accidents\n",
      "   MT: 2.1% severe accidents\n",
      "   ID: 6.8% severe accidents\n",
      "   OR: 8.7% severe accidents\n",
      "   OK: 8.7% severe accidents\n",
      "   WV: 9.8% severe accidents\n",
      "   DC: 10.7% severe accidents\n",
      "   NC: 11.8% severe accidents\n",
      "   SC: 11.9% severe accidents\n",
      "   LA: 13.0% severe accidents\n",
      "\n",
      "KEY SEVERITY INSIGHTS:\n",
      "   • Most common severity: Level 2 (79.7%)\n",
      "   • Least common severity: Level 1 (0.9%)\n",
      "   • High severity rate (3+4): 19.5% of all accidents\n",
      "   • Low severity rate (1+2): 80.5% of all accidents\n"
     ]
    }
   ],
   "source": [
    "# Accident Severity Analysis\n",
    "\n",
    "print(\"=\"*60)\n",
    "print(\"4. ACCIDENT SEVERITY ANALYSIS\")\n",
    "print(\"=\"*60)\n",
    "\n",
    "# Get severity data\n",
    "if data_source == \"processed\":\n",
    "    severity_data = severity_trends.copy()\n",
    "else:\n",
    "    severity_data = conn.execute(\"\"\"\n",
    "        SELECT \n",
    "            EXTRACT(year FROM Start_Time::TIMESTAMP) as year,\n",
    "            Severity,\n",
    "            COUNT(*) as accident_count,\n",
    "            COUNT(*) * 100.0 / SUM(COUNT(*)) OVER (PARTITION BY EXTRACT(year FROM Start_Time::TIMESTAMP)) as percentage\n",
    "        FROM accidents \n",
    "        WHERE Start_Time IS NOT NULL AND Severity IS NOT NULL\n",
    "        GROUP BY year, Severity\n",
    "        ORDER BY year, Severity\n",
    "    \"\"\").fetchdf()\n",
    "\n",
    "# Overall severity distribution\n",
    "overall_severity = severity_data.groupby('Severity')['accident_count'].sum()\n",
    "total_severity_accidents = overall_severity.sum()\n",
    "\n",
    "print(f\" OVERALL SEVERITY DISTRIBUTION:\")\n",
    "for severity, count in overall_severity.items():\n",
    "    pct = (count / total_severity_accidents) * 100\n",
    "    severity_desc = {1: \"Minor\", 2: \"Moderate\", 3: \"Serious\", 4: \"Severe\"}\n",
    "    desc = severity_desc.get(severity, \"Unknown\")\n",
    "    print(f\"   Severity {severity} ({desc}): {count:,} accidents ({pct:.1f}%)\")\n",
    "\n",
    "# Latest year analysis\n",
    "latest_year = severity_data['year'].max()\n",
    "latest_severity = severity_data[severity_data['year'] == latest_year].copy()\n",
    "\n",
    "print(f\"\\nSEVERITY DISTRIBUTION FOR {latest_year:.0f}:\")\n",
    "for _, row in latest_severity.iterrows():\n",
    "    print(f\"   Severity {row['Severity']:.0f}: {row['accident_count']:,.0f} ({row['percentage']:.1f}%)\")\n",
    "\n",
    "# Create comprehensive severity visualizations\n",
    "fig, axes = plt.subplots(2, 2, figsize=(16, 12))\n",
    "\n",
    "# 1. Overall severity distribution (pie chart)\n",
    "severity_labels = [f\"Severity {s}\\n({overall_severity[s]:,})\" for s in overall_severity.index]\n",
    "colors = ['#90EE90', '#FFD700', '#FFA500', '#FF6347']  # Light green to red\n",
    "axes[0,0].pie(overall_severity.values, labels=severity_labels, autopct='%1.1f%%', \n",
    "              startangle=90, colors=colors)\n",
    "axes[0,0].set_title('Overall Accident Severity Distribution', fontweight='bold', pad=20)\n",
    "\n",
    "# 2. Severity trends over time (line plot)\n",
    "severity_pivot = severity_data.pivot(index='year', columns='Severity', values='accident_count')\n",
    "for severity in severity_pivot.columns:\n",
    "    axes[0,1].plot(severity_pivot.index, severity_pivot[severity], \n",
    "                   marker='o', linewidth=2, label=f'Severity {severity}')\n",
    "axes[0,1].set_title('Severity Trends Over Time (Absolute Numbers)', fontweight='bold')\n",
    "axes[0,1].set_xlabel('Year')\n",
    "axes[0,1].set_ylabel('Number of Accidents')\n",
    "axes[0,1].legend()\n",
    "axes[0,1].grid(True, alpha=0.3)\n",
    "\n",
    "# 3. Severity percentage trends (stacked area)\n",
    "severity_pct_pivot = severity_data.pivot(index='year', columns='Severity', values='percentage')\n",
    "axes[1,0].stackplot(severity_pct_pivot.index, \n",
    "                    severity_pct_pivot[1], severity_pct_pivot[2], \n",
    "                    severity_pct_pivot[3], severity_pct_pivot[4],\n",
    "                    labels=['Severity 1', 'Severity 2', 'Severity 3', 'Severity 4'],\n",
    "                    colors=colors, alpha=0.8)\n",
    "axes[1,0].set_title('Severity Distribution Over Time (Percentages)', fontweight='bold')\n",
    "axes[1,0].set_xlabel('Year')\n",
    "axes[1,0].set_ylabel('Percentage of Accidents')\n",
    "axes[1,0].legend(loc='upper right')\n",
    "axes[1,0].grid(True, alpha=0.3)\n",
    "axes[1,0].set_ylim(0, 100)\n",
    "\n",
    "# 4. Year-over-year severity changes\n",
    "severity_changes = severity_pivot.pct_change() * 100\n",
    "severity_changes = severity_changes.dropna()\n",
    "\n",
    "x = range(len(severity_changes))\n",
    "width = 0.2\n",
    "for i, severity in enumerate(severity_changes.columns):\n",
    "    axes[1,1].bar([pos + width*i for pos in x], severity_changes[severity], \n",
    "                  width, label=f'Severity {severity}', alpha=0.8)\n",
    "\n",
    "axes[1,1].set_title('Year-over-Year Severity Changes (%)', fontweight='bold')\n",
    "axes[1,1].set_xlabel('Year')\n",
    "axes[1,1].set_ylabel('Percentage Change')\n",
    "axes[1,1].set_xticks([pos + width*1.5 for pos in x])\n",
    "axes[1,1].set_xticklabels([f'{year:.0f}' for year in severity_changes.index])\n",
    "axes[1,1].legend()\n",
    "axes[1,1].grid(True, alpha=0.3, axis='y')\n",
    "axes[1,1].axhline(y=0, color='black', linestyle='-', alpha=0.5)\n",
    "\n",
    "plt.tight_layout()\n",
    "plt.show()\n",
    "\n",
    "# Calculate severity insights\n",
    "severity_trend_analysis = {}\n",
    "for severity in severity_pivot.columns:\n",
    "    # Use dropna() to handle missing values properly\n",
    "    valid_data = severity_pivot[severity].dropna()\n",
    "    \n",
    "    if len(valid_data) >= 2:  # Need at least 2 data points for trend analysis\n",
    "        first_year_value = valid_data.iloc[0]\n",
    "        last_year_value = valid_data.iloc[-1]\n",
    "        first_year_date = valid_data.index[0]\n",
    "        last_year_date = valid_data.index[-1]\n",
    "        \n",
    "        total_change = ((last_year_value - first_year_value) / first_year_value) * 100\n",
    "        \n",
    "        severity_trend_analysis[severity] = {\n",
    "            'first_year': first_year_value,\n",
    "            'last_year': last_year_value,\n",
    "            'total_change': total_change,\n",
    "            'first_year_date': first_year_date,\n",
    "            'last_year_date': last_year_date,\n",
    "            'data_points': len(valid_data)\n",
    "        }\n",
    "    else:\n",
    "        # Insufficient data for trend analysis\n",
    "        severity_trend_analysis[severity] = {\n",
    "            'first_year': float('nan'),\n",
    "            'last_year': float('nan'),\n",
    "            'total_change': float('nan'),\n",
    "            'first_year_date': None,\n",
    "            'last_year_date': None,\n",
    "            'data_points': len(valid_data)\n",
    "        }\n",
    "\n",
    "print(f\"\\nSEVERITY TRENDS ANALYSIS ({severity_pivot.index.min():.0f} to {severity_pivot.index.max():.0f}):\")\n",
    "for severity, data in severity_trend_analysis.items():\n",
    "    if data['data_points'] >= 2 and pd.notna(data['total_change']):\n",
    "        trend_symbol = \"↑\" if data['total_change'] > 0 else \"↓\"\n",
    "        print(f\"   Severity {severity}: {data['first_year']:,.0f} ({data['first_year_date']:.0f}) → \" +\n",
    "              f\"{data['last_year']:,.0f} ({data['last_year_date']:.0f}) \" +\n",
    "              f\"({data['total_change']:+.1f}%) {trend_symbol}\")\n",
    "        print(f\"      Data available for {data['data_points']}/{len(severity_pivot)} years\")\n",
    "    elif data['data_points'] == 1:\n",
    "        only_value = severity_pivot[severity].dropna().iloc[0]\n",
    "        only_year = severity_pivot[severity].dropna().index[0]\n",
    "        print(f\"   Severity {severity}: Only data for {only_year:.0f} ({only_value:,.0f} accidents)\")\n",
    "    else:\n",
    "        print(f\"   Severity {severity}: Insufficient data for trend analysis\")\n",
    "\n",
    "# Most/least severe states analysis\n",
    "if data_source == \"processed\":\n",
    "    # Calculate severity rates by state\n",
    "    state_severity = risk_metrics.groupby(['State', 'Severity'])['accident_count'].sum().unstack(fill_value=0)\n",
    "    state_severity['total'] = state_severity.sum(axis=1)\n",
    "    state_severity['severity_3_4_rate'] = (state_severity[3] + state_severity[4]) / state_severity['total'] * 100\n",
    "    \n",
    "    print(f\"\\nSTATES WITH HIGHEST SEVERE ACCIDENT RATES (Severity 3+4):\")\n",
    "    top_severe_states = state_severity.nlargest(10, 'severity_3_4_rate')\n",
    "    for state, row in top_severe_states.iterrows():\n",
    "        print(f\"   {state}: {row['severity_3_4_rate']:.1f}% severe accidents\")\n",
    "    \n",
    "    print(f\"\\nSTATES WITH LOWEST SEVERE ACCIDENT RATES (Severity 3+4):\")\n",
    "    low_severe_states = state_severity.nsmallest(10, 'severity_3_4_rate')\n",
    "    for state, row in low_severe_states.iterrows():\n",
    "        print(f\"   {state}: {row['severity_3_4_rate']:.1f}% severe accidents\")\n",
    "\n",
    "# Key insights summary\n",
    "most_common_severity = overall_severity.idxmax()\n",
    "least_common_severity = overall_severity.idxmin()\n",
    "high_severity_rate = ((overall_severity[3] + overall_severity[4]) / total_severity_accidents) * 100\n",
    "\n",
    "print(f\"\\nKEY SEVERITY INSIGHTS:\")\n",
    "print(f\"   • Most common severity: Level {most_common_severity} ({(overall_severity[most_common_severity]/total_severity_accidents*100):.1f}%)\")\n",
    "print(f\"   • Least common severity: Level {least_common_severity} ({(overall_severity[least_common_severity]/total_severity_accidents*100):.1f}%)\")\n",
    "print(f\"   • High severity rate (3+4): {high_severity_rate:.1f}% of all accidents\")\n",
    "print(f\"   • Low severity rate (1+2): {100-high_severity_rate:.1f}% of all accidents\")\n",
    "\n",
    "# Store for later use\n",
    "globals()['severity_data'] = severity_data\n",
    "globals()['overall_severity'] = overall_severity"
   ]
  },
  {
   "cell_type": "code",
   "execution_count": null,
   "id": "ebf8a2b7",
   "metadata": {},
   "outputs": [
    {
     "name": "stdout",
     "output_type": "stream",
     "text": [
      "============================================================\n",
      "5. TIME PATTERN ANALYSIS\n",
      "============================================================\n",
      "PEAK ACCIDENT TIMES:\n",
      "   Peak hour: 7:00 (587,472 accidents)\n",
      "   Peak month: Dec (847,343 accidents)\n",
      "   Peak day: Friday (1,366,499 accidents)\n"
     ]
    },
    {
     "data": {
      "image/png": "[encoded data removed]",
      "text/plain": [
       "<Figure size 1800x1200 with 5 Axes>"
      ]
     },
     "metadata": {},
     "output_type": "display_data"
    },
    {
     "name": "stdout",
     "output_type": "stream",
     "text": [
      "\n",
      "RUSH HOUR ANALYSIS:\n",
      "   Morning rush (6-9 AM): 1,933,919 accidents (25.0%)\n",
      "   Evening rush (4-7 PM): 1,885,147 accidents (24.4%)\n",
      "   Total rush hour accidents: 3,819,066 (49.4%)\n",
      "\n",
      "WEEKDAY vs WEEKEND ANALYSIS:\n",
      "   Weekday accidents: 6,496,967 (84.1%)\n",
      "   Weekend accidents: 1,231,427 (15.9%)\n",
      "   Average per weekday: 1,299,393\n",
      "   Average per weekend day: 615,714\n",
      "\n",
      "SEASONAL ANALYSIS:\n",
      "   Fall: 2,086,676 accidents (27.0%)\n",
      "   Spring: 1,700,071 accidents (22.0%)\n",
      "   Summer: 1,683,374 accidents (21.8%)\n",
      "   Winter: 2,258,273 accidents (29.2%)\n",
      "\n",
      "SAFEST TIMES:\n",
      "   Safest hour: 3:00 (83,863 accidents)\n",
      "   Safest month: Jul (512,335 accidents)\n",
      "   Safest day: Sunday (562,744 accidents)\n"
     ]
    }
   ],
   "source": [
    "# Time Pattern Analysis\n",
    "\n",
    "print(\"=\"*60)\n",
    "print(\"5. TIME PATTERN ANALYSIS\")\n",
    "print(\"=\"*60)\n",
    "\n",
    "# Get time pattern data\n",
    "if data_source == \"processed\":\n",
    "    time_data = time_patterns.copy()\n",
    "else:\n",
    "    time_data = conn.execute(\"\"\"\n",
    "        SELECT \n",
    "            EXTRACT(year FROM Start_Time::TIMESTAMP) as year,\n",
    "            EXTRACT(month FROM Start_Time::TIMESTAMP) as month,\n",
    "            EXTRACT(hour FROM Start_Time::TIMESTAMP) as hour,\n",
    "            EXTRACT(dow FROM Start_Time::TIMESTAMP) as day_of_week,\n",
    "            COUNT(*) as accident_count\n",
    "        FROM accidents \n",
    "        WHERE Start_Time IS NOT NULL\n",
    "        GROUP BY year, month, hour, day_of_week\n",
    "        ORDER BY year, month, hour\n",
    "    \"\"\").fetchdf()\n",
    "\n",
    "# Calculate different time aggregations\n",
    "hourly_accidents = time_data.groupby('hour')['accident_count'].sum().reset_index()\n",
    "monthly_accidents = time_data.groupby('month')['accident_count'].sum().reset_index()\n",
    "dow_accidents = time_data.groupby('day_of_week')['accident_count'].sum().reset_index()\n",
    "\n",
    "# Add readable names\n",
    "month_names = ['Jan', 'Feb', 'Mar', 'Apr', 'May', 'Jun', \n",
    "               'Jul', 'Aug', 'Sep', 'Oct', 'Nov', 'Dec']\n",
    "monthly_accidents['month_name'] = [month_names[int(m)-1] for m in monthly_accidents['month']]\n",
    "\n",
    "dow_names = ['Sunday', 'Monday', 'Tuesday', 'Wednesday', 'Thursday', 'Friday', 'Saturday']\n",
    "dow_accidents['day_name'] = [dow_names[int(d)] for d in dow_accidents['day_of_week']]\n",
    "\n",
    "print(f\"PEAK ACCIDENT TIMES:\")\n",
    "peak_hour = hourly_accidents.loc[hourly_accidents['accident_count'].idxmax()]\n",
    "peak_month = monthly_accidents.loc[monthly_accidents['accident_count'].idxmax()]\n",
    "peak_dow = dow_accidents.loc[dow_accidents['accident_count'].idxmax()]\n",
    "\n",
    "print(f\"   Peak hour: {peak_hour['hour']:.0f}:00 ({peak_hour['accident_count']:,} accidents)\")\n",
    "print(f\"   Peak month: {peak_month['month_name']} ({peak_month['accident_count']:,} accidents)\")\n",
    "print(f\"   Peak day: {peak_dow['day_name']} ({peak_dow['accident_count']:,} accidents)\")\n",
    "\n",
    "# Create comprehensive time pattern visualizations\n",
    "fig = plt.figure(figsize=(18, 12))\n",
    "\n",
    "# 1. Hourly pattern\n",
    "ax1 = plt.subplot(2, 3, 1)\n",
    "bars = plt.bar(hourly_accidents['hour'], hourly_accidents['accident_count'], \n",
    "               color='skyblue', alpha=0.8, edgecolor='navy')\n",
    "plt.title('Accidents by Hour of Day', fontweight='bold', fontsize=14)\n",
    "plt.xlabel('Hour (24-hour format)')\n",
    "plt.ylabel('Number of Accidents')\n",
    "plt.grid(True, alpha=0.3, axis='y')\n",
    "\n",
    "# Highlight peak hours\n",
    "max_hour = hourly_accidents.loc[hourly_accidents['accident_count'].idxmax(), 'hour']\n",
    "bars[int(max_hour)].set_color('red')\n",
    "bars[int(max_hour)].set_alpha(1.0)\n",
    "\n",
    "# Add rush hour indicators\n",
    "rush_hours = [7, 8, 17, 18]  # Morning and evening rush\n",
    "for hour in rush_hours:\n",
    "    if hour < len(bars):\n",
    "        bars[int(hour)].set_color('orange')\n",
    "\n",
    "plt.xticks(range(0, 24, 2))\n",
    "\n",
    "# 2. Monthly pattern\n",
    "ax2 = plt.subplot(2, 3, 2)\n",
    "bars = plt.bar(monthly_accidents['month_name'], monthly_accidents['accident_count'], \n",
    "               color='lightcoral', alpha=0.8, edgecolor='darkred')\n",
    "plt.title('Accidents by Month', fontweight='bold', fontsize=14)\n",
    "plt.xlabel('Month')\n",
    "plt.ylabel('Number of Accidents')\n",
    "plt.xticks(rotation=45)\n",
    "plt.grid(True, alpha=0.3, axis='y')\n",
    "\n",
    "# Highlight peak month\n",
    "max_month_idx = monthly_accidents['accident_count'].idxmax()\n",
    "bars[max_month_idx].set_color('red')\n",
    "bars[max_month_idx].set_alpha(1.0)\n",
    "\n",
    "# 3. Day of week pattern\n",
    "ax3 = plt.subplot(2, 3, 3)\n",
    "bars = plt.bar(dow_accidents['day_name'], dow_accidents['accident_count'], \n",
    "               color='lightgreen', alpha=0.8, edgecolor='darkgreen')\n",
    "plt.title('Accidents by Day of Week', fontweight='bold', fontsize=14)\n",
    "plt.xlabel('Day of Week')\n",
    "plt.ylabel('Number of Accidents')\n",
    "plt.xticks(rotation=45)\n",
    "plt.grid(True, alpha=0.3, axis='y')\n",
    "\n",
    "# Highlight weekdays vs weekends\n",
    "weekend_days = ['Saturday', 'Sunday']\n",
    "for i, day in enumerate(dow_accidents['day_name']):\n",
    "    if day in weekend_days:\n",
    "        bars[i].set_color('purple')\n",
    "\n",
    "max_dow_idx = dow_accidents['accident_count'].idxmax()\n",
    "bars[max_dow_idx].set_color('red')\n",
    "bars[max_dow_idx].set_alpha(1.0)\n",
    "\n",
    "# 4. Hour vs Day of Week Heatmap\n",
    "ax4 = plt.subplot(2, 3, (4, 6))\n",
    "hour_dow_pivot = time_data.groupby(['hour', 'day_of_week'])['accident_count'].sum().unstack()\n",
    "\n",
    "# Create the heatmap\n",
    "im = plt.imshow(hour_dow_pivot.T, cmap='YlOrRd', aspect='auto', interpolation='nearest')\n",
    "plt.title('Accident Heatmap: Hour vs Day of Week', fontweight='bold', fontsize=16)\n",
    "plt.xlabel('Hour of Day')\n",
    "plt.ylabel('Day of Week')\n",
    "\n",
    "# Customize ticks\n",
    "plt.xticks(range(0, 24, 2), range(0, 24, 2))\n",
    "plt.yticks(range(7), dow_names)\n",
    "\n",
    "# Add colorbar\n",
    "cbar = plt.colorbar(im, ax=ax4, shrink=0.8)\n",
    "cbar.set_label('Number of Accidents', rotation=270, labelpad=20)\n",
    "\n",
    "# Add text annotations for peak values\n",
    "hour_dow_max = hour_dow_pivot.max().max()\n",
    "for i in range(len(dow_names)):\n",
    "    for j in range(24):\n",
    "        if hour_dow_pivot.iloc[j, i] > hour_dow_max * 0.8:  # Highlight top values\n",
    "            plt.text(j, i, f'{int(hour_dow_pivot.iloc[j, i]/1000)}k', \n",
    "                    ha='center', va='center', color='white', fontweight='bold', fontsize=8)\n",
    "\n",
    "plt.tight_layout()\n",
    "plt.show()\n",
    "\n",
    "# Rush hour analysis\n",
    "morning_rush = hourly_accidents[(hourly_accidents['hour'] >= 6) & (hourly_accidents['hour'] <= 9)]['accident_count'].sum()\n",
    "evening_rush = hourly_accidents[(hourly_accidents['hour'] >= 16) & (hourly_accidents['hour'] <= 19)]['accident_count'].sum()\n",
    "total_accidents = hourly_accidents['accident_count'].sum()\n",
    "\n",
    "print(f\"\\nRUSH HOUR ANALYSIS:\")\n",
    "print(f\"   Morning rush (6-9 AM): {morning_rush:,} accidents ({morning_rush/total_accidents*100:.1f}%)\")\n",
    "print(f\"   Evening rush (4-7 PM): {evening_rush:,} accidents ({evening_rush/total_accidents*100:.1f}%)\")\n",
    "print(f\"   Total rush hour accidents: {morning_rush + evening_rush:,} ({(morning_rush + evening_rush)/total_accidents*100:.1f}%)\")\n",
    "\n",
    "# Weekend vs weekday analysis\n",
    "weekday_accidents = dow_accidents[~dow_accidents['day_name'].isin(['Saturday', 'Sunday'])]['accident_count'].sum()\n",
    "weekend_accidents = dow_accidents[dow_accidents['day_name'].isin(['Saturday', 'Sunday'])]['accident_count'].sum()\n",
    "total_dow_accidents = dow_accidents['accident_count'].sum()\n",
    "\n",
    "print(f\"\\nWEEKDAY vs WEEKEND ANALYSIS:\")\n",
    "print(f\"   Weekday accidents: {weekday_accidents:,} ({weekday_accidents/total_dow_accidents*100:.1f}%)\")\n",
    "print(f\"   Weekend accidents: {weekend_accidents:,} ({weekend_accidents/total_dow_accidents*100:.1f}%)\")\n",
    "print(f\"   Average per weekday: {weekday_accidents/5:,.0f}\")\n",
    "print(f\"   Average per weekend day: {weekend_accidents/2:,.0f}\")\n",
    "\n",
    "# Seasonal analysis\n",
    "seasonal_mapping = {1: 'Winter', 2: 'Winter', 3: 'Spring', 4: 'Spring', 5: 'Spring', 6: 'Summer',\n",
    "                   7: 'Summer', 8: 'Summer', 9: 'Fall', 10: 'Fall', 11: 'Fall', 12: 'Winter'}\n",
    "monthly_accidents['season'] = monthly_accidents['month'].map(seasonal_mapping)\n",
    "seasonal_accidents = monthly_accidents.groupby('season')['accident_count'].sum()\n",
    "\n",
    "print(f\"\\nSEASONAL ANALYSIS:\")\n",
    "for season, count in seasonal_accidents.items():\n",
    "    print(f\"   {season}: {count:,} accidents ({count/seasonal_accidents.sum()*100:.1f}%)\")\n",
    "\n",
    "# Find the safest and most dangerous times\n",
    "safest_hour = hourly_accidents.loc[hourly_accidents['accident_count'].idxmin()]\n",
    "safest_month = monthly_accidents.loc[monthly_accidents['accident_count'].idxmin()]\n",
    "safest_dow = dow_accidents.loc[dow_accidents['accident_count'].idxmin()]\n",
    "\n",
    "print(f\"\\nSAFEST TIMES:\")\n",
    "print(f\"   Safest hour: {safest_hour['hour']:.0f}:00 ({safest_hour['accident_count']:,} accidents)\")\n",
    "print(f\"   Safest month: {safest_month['month_name']} ({safest_month['accident_count']:,} accidents)\")\n",
    "print(f\"   Safest day: {safest_dow['day_name']} ({safest_dow['accident_count']:,} accidents)\")\n",
    "\n",
    "# Store for later use\n",
    "globals()['time_data'] = time_data\n",
    "globals()['hourly_accidents'] = hourly_accidents"
   ]
  },
  {
   "cell_type": "code",
   "execution_count": 32,
   "id": "b7a44add",
   "metadata": {},
   "outputs": [
    {
     "name": "stdout",
     "output_type": "stream",
     "text": [
      "============================================================\n",
      "6. INTERACTIVE VISUALIZATIONS\n",
      "============================================================\n",
      "Creating interactive visualizations...\n",
      "   (These will appear below - you can interact with them!)\n"
     ]
    },
    {
     "data": {
      "application/vnd.plotly.v1+json": {
       "config": {
        "plotlyServerURL": "https://plot.ly"
       },
       "data": [
        {
         "hovertemplate": "State=CA<br>Year=%{x}<br>Number of Accidents=%{y}<extra></extra>",
         "legendgroup": "CA",
         "line": {
          "color": "#636efa",
          "dash": "solid",
          "shape": "spline"
         },
         "marker": {
          "symbol": "circle"
         },
         "mode": "lines",
         "name": "CA",
         "orientation": "v",
         "showlegend": true,
         "type": "scatter",
         "x": {
          "bdata": "4AfhB+IH4wfkB+UH5gfnBw==",
          "dtype": "i2"
         },
         "xaxis": "x",
         "y": {
          "bdata": "pCQCAKxUAgDiZAIAz0EDAFxbBAB0NwUAabwFAD8jAQA=",
          "dtype": "i4"
         },
         "yaxis": "y"
        },
        {
         "hovertemplate": "State=TX<br>Year=%{x}<br>Number of Accidents=%{y}<extra></extra>",
         "legendgroup": "TX",
         "line": {
          "color": "#EF553B",
          "dash": "solid",
          "shape": "spline"
         },
         "marker": {
          "symbol": "circle"
         },
         "mode": "lines",
         "name": "TX",
         "orientation": "v",
         "showlegend": true,
         "type": "scatter",
         "x": {
          "bdata": "4AfhB+IH4wfkB+UH5gfnBw==",
          "dtype": "i2"
         },
         "xaxis": "x",
         "y": {
          "bdata": "acIAAFROAQCPSAEAfjMBABAfAQDGjQEAFXUBAAA2AAA=",
          "dtype": "i4"
         },
         "yaxis": "y"
        },
        {
         "hovertemplate": "State=FL<br>Year=%{x}<br>Number of Accidents=%{y}<extra></extra>",
         "legendgroup": "FL",
         "line": {
          "color": "#00cc96",
          "dash": "solid",
          "shape": "spline"
         },
         "marker": {
          "symbol": "circle"
         },
         "mode": "lines",
         "name": "FL",
         "orientation": "v",
         "showlegend": true,
         "type": "scatter",
         "x": {
          "bdata": "4AfhB+IH4wfkB+UH5gfnBw==",
          "dtype": "i2"
         },
         "xaxis": "x",
         "y": {
          "bdata": "xJAAACLtAAD1AAEAmesAADr9AQDgqwMAzwMEAONWAAA=",
          "dtype": "i4"
         },
         "yaxis": "y"
        },
        {
         "hovertemplate": "State=PA<br>Year=%{x}<br>Number of Accidents=%{y}<extra></extra>",
         "legendgroup": "PA",
         "line": {
          "color": "#ab63fa",
          "dash": "solid",
          "shape": "spline"
         },
         "marker": {
          "symbol": "circle"
         },
         "mode": "lines",
         "name": "PA",
         "orientation": "v",
         "showlegend": true,
         "type": "scatter",
         "x": {
          "bdata": "4AfhB+IH4wfkB+UH5gfnBw==",
          "dtype": "i2"
         },
         "xaxis": "x",
         "y": {
          "bdata": "8FIAABlpAADWVgAAhE4AALWoAABgFwEAxzsBAG0pAAA=",
          "dtype": "i4"
         },
         "yaxis": "y"
        },
        {
         "hovertemplate": "State=NY<br>Year=%{x}<br>Number of Accidents=%{y}<extra></extra>",
         "legendgroup": "NY",
         "line": {
          "color": "#FFA15A",
          "dash": "solid",
          "shape": "spline"
         },
         "marker": {
          "symbol": "circle"
         },
         "mode": "lines",
         "name": "NY",
         "orientation": "v",
         "showlegend": true,
         "type": "scatter",
         "x": {
          "bdata": "4AfhB+IH4wfkB+UH5gfnBw==",
          "dtype": "i2"
         },
         "xaxis": "x",
         "y": {
          "bdata": "gU4AAHqQAACilAAA16cAAKW+AACu2AAALXIBAEQqAAA=",
          "dtype": "i4"
         },
         "yaxis": "y"
        },
        {
         "hovertemplate": "State=VA<br>Year=%{x}<br>Number of Accidents=%{y}<extra></extra>",
         "legendgroup": "VA",
         "line": {
          "color": "#19d3f3",
          "dash": "solid",
          "shape": "spline"
         },
         "marker": {
          "symbol": "circle"
         },
         "mode": "lines",
         "name": "VA",
         "orientation": "v",
         "showlegend": true,
         "type": "scatter",
         "x": {
          "bdata": "4AfhB+IH4wfkB+UH5gfnBw==",
          "dtype": "i2"
         },
         "xaxis": "x",
         "y": {
          "bdata": "XRkAAAdRAACjaQAAcmQAAAOvAAC4CAEA74MBAKIsAAA=",
          "dtype": "i4"
         },
         "yaxis": "y"
        },
        {
         "hovertemplate": "State=NC<br>Year=%{x}<br>Number of Accidents=%{y}<extra></extra>",
         "legendgroup": "NC",
         "line": {
          "color": "#FF6692",
          "dash": "solid",
          "shape": "spline"
         },
         "marker": {
          "symbol": "circle"
         },
         "mode": "lines",
         "name": "NC",
         "orientation": "v",
         "showlegend": true,
         "type": "scatter",
         "x": {
          "bdata": "4AfhB+IH4wfkB+UH5gfnBw==",
          "dtype": "i2"
         },
         "xaxis": "x",
         "y": {
          "bdata": "AxgAADyFAADG2wAAr7MAAPm9AADWAAEA5xkBAK0jAAA=",
          "dtype": "i4"
         },
         "yaxis": "y"
        },
        {
         "hovertemplate": "State=SC<br>Year=%{x}<br>Number of Accidents=%{y}<extra></extra>",
         "legendgroup": "SC",
         "line": {
          "color": "#B6E880",
          "dash": "solid",
          "shape": "spline"
         },
         "marker": {
          "symbol": "circle"
         },
         "mode": "lines",
         "name": "SC",
         "orientation": "v",
         "showlegend": true,
         "type": "scatter",
         "x": {
          "bdata": "4AfhB+IH4wfkB+UH5gfnBw==",
          "dtype": "i2"
         },
         "xaxis": "x",
         "y": {
          "bdata": "xwsAAK1uAAAm3AAAdeYAAEX1AAAjNwEAkEsBAFYhAAA=",
          "dtype": "i4"
         },
         "yaxis": "y"
        },
        {
         "hovertemplate": "State=MN<br>Year=%{x}<br>Number of Accidents=%{y}<extra></extra>",
         "legendgroup": "MN",
         "line": {
          "color": "#FF97FF",
          "dash": "solid",
          "shape": "spline"
         },
         "marker": {
          "symbol": "circle"
         },
         "mode": "lines",
         "name": "MN",
         "orientation": "v",
         "showlegend": true,
         "type": "scatter",
         "x": {
          "bdata": "4AfhB+IH4wfkB+UH5gfnBw==",
          "dtype": "i2"
         },
         "xaxis": "x",
         "y": {
          "bdata": "BwoAAMIoAAADTwAAp3MAABmZAAABpwAA0pUAAPUiAAA=",
          "dtype": "i4"
         },
         "yaxis": "y"
        },
        {
         "hovertemplate": "State=OR<br>Year=%{x}<br>Number of Accidents=%{y}<extra></extra>",
         "legendgroup": "OR",
         "line": {
          "color": "#FECB52",
          "dash": "solid",
          "shape": "spline"
         },
         "marker": {
          "symbol": "circle"
         },
         "mode": "lines",
         "name": "OR",
         "orientation": "v",
         "showlegend": true,
         "type": "scatter",
         "x": {
          "bdata": "4AfhB+IH4wfkB+UH5gfnBw==",
          "dtype": "i2"
         },
         "xaxis": "x",
         "y": {
          "bdata": "AgQAAB8YAAD4VwAA7qAAAJSGAABXlQAAr3UAACsXAAA=",
          "dtype": "i4"
         },
         "yaxis": "y"
        }
       ],
       "layout": {
        "annotations": [
         {
          "arrowcolor": "red",
          "arrowhead": 2,
          "bgcolor": "yellow",
          "bordercolor": "red",
          "showarrow": true,
          "text": "Peak Year: 2022",
          "x": 2022,
          "y": 375913
         }
        ],
        "font": {
         "size": 12
        },
        "height": 600,
        "hovermode": "x unified",
        "legend": {
         "title": {
          "text": "State"
         },
         "tracegroupgap": 0
        },
        "template": {
         "data": {
          "bar": [
           {
            "error_x": {
             "color": "#2a3f5f"
            },
            "error_y": {
             "color": "#2a3f5f"
            },
            "marker": {
             "line": {
              "color": "#E5ECF6",
              "width": 0.5
             },
             "pattern": {
              "fillmode": "overlay",
              "size": 10,
              "solidity": 0.2
             }
            },
            "type": "bar"
           }
          ],
          "barpolar": [
           {
            "marker": {
             "line": {
              "color": "#E5ECF6",
              "width": 0.5
             },
             "pattern": {
              "fillmode": "overlay",
              "size": 10,
              "solidity": 0.2
             }
            },
            "type": "barpolar"
           }
          ],
          "carpet": [
           {
            "aaxis": {
             "endlinecolor": "#2a3f5f",
             "gridcolor": "white",
             "linecolor": "white",
             "minorgridcolor": "white",
             "startlinecolor": "#2a3f5f"
            },
            "baxis": {
             "endlinecolor": "#2a3f5f",
             "gridcolor": "white",
             "linecolor": "white",
             "minorgridcolor": "white",
             "startlinecolor": "#2a3f5f"
            },
            "type": "carpet"
           }
          ],
          "choropleth": [
           {
            "colorbar": {
             "outlinewidth": 0,
             "ticks": ""
            },
            "type": "choropleth"
           }
          ],
          "contour": [
           {
            "colorbar": {
             "outlinewidth": 0,
             "ticks": ""
            },
            "colorscale": [
             [
              0,
              "#0d0887"
             ],
             [
              0.1111111111111111,
              "#46039f"
             ],
             [
              0.2222222222222222,
              "#7201a8"
             ],
             [
              0.3333333333333333,
              "#9c179e"
             ],
             [
              0.4444444444444444,
              "#bd3786"
             ],
             [
              0.5555555555555556,
              "#d8576b"
             ],
             [
              0.6666666666666666,
              "#ed7953"
             ],
             [
              0.7777777777777778,
              "#fb9f3a"
             ],
             [
              0.8888888888888888,
              "#fdca26"
             ],
             [
              1,
              "#f0f921"
             ]
            ],
            "type": "contour"
           }
          ],
          "contourcarpet": [
           {
            "colorbar": {
             "outlinewidth": 0,
             "ticks": ""
            },
            "type": "contourcarpet"
           }
          ],
          "heatmap": [
           {
            "colorbar": {
             "outlinewidth": 0,
             "ticks": ""
            },
            "colorscale": [
             [
              0,
              "#0d0887"
             ],
             [
              0.1111111111111111,
              "#46039f"
             ],
             [
              0.2222222222222222,
              "#7201a8"
             ],
             [
              0.3333333333333333,
              "#9c179e"
             ],
             [
              0.4444444444444444,
              "#bd3786"
             ],
             [
              0.5555555555555556,
              "#d8576b"
             ],
             [
              0.6666666666666666,
              "#ed7953"
             ],
             [
              0.7777777777777778,
              "#fb9f3a"
             ],
             [
              0.8888888888888888,
              "#fdca26"
             ],
             [
              1,
              "#f0f921"
             ]
            ],
            "type": "heatmap"
           }
          ],
          "histogram": [
           {
            "marker": {
             "pattern": {
              "fillmode": "overlay",
              "size": 10,
              "solidity": 0.2
             }
            },
            "type": "histogram"
           }
          ],
          "histogram2d": [
           {
            "colorbar": {
             "outlinewidth": 0,
             "ticks": ""
            },
            "colorscale": [
             [
              0,
              "#0d0887"
             ],
             [
              0.1111111111111111,
              "#46039f"
             ],
             [
              0.2222222222222222,
              "#7201a8"
             ],
             [
              0.3333333333333333,
              "#9c179e"
             ],
             [
              0.4444444444444444,
              "#bd3786"
             ],
             [
              0.5555555555555556,
              "#d8576b"
             ],
             [
              0.6666666666666666,
              "#ed7953"
             ],
             [
              0.7777777777777778,
              "#fb9f3a"
             ],
             [
              0.8888888888888888,
              "#fdca26"
             ],
             [
              1,
              "#f0f921"
             ]
            ],
            "type": "histogram2d"
           }
          ],
          "histogram2dcontour": [
           {
            "colorbar": {
             "outlinewidth": 0,
             "ticks": ""
            },
            "colorscale": [
             [
              0,
              "#0d0887"
             ],
             [
              0.1111111111111111,
              "#46039f"
             ],
             [
              0.2222222222222222,
              "#7201a8"
             ],
             [
              0.3333333333333333,
              "#9c179e"
             ],
             [
              0.4444444444444444,
              "#bd3786"
             ],
             [
              0.5555555555555556,
              "#d8576b"
             ],
             [
              0.6666666666666666,
              "#ed7953"
             ],
             [
              0.7777777777777778,
              "#fb9f3a"
             ],
             [
              0.8888888888888888,
              "#fdca26"
             ],
             [
              1,
              "#f0f921"
             ]
            ],
            "type": "histogram2dcontour"
           }
          ],
          "mesh3d": [
           {
            "colorbar": {
             "outlinewidth": 0,
             "ticks": ""
            },
            "type": "mesh3d"
           }
          ],
          "parcoords": [
           {
            "line": {
             "colorbar": {
              "outlinewidth": 0,
              "ticks": ""
             }
            },
            "type": "parcoords"
           }
          ],
          "pie": [
           {
            "automargin": true,
            "type": "pie"
           }
          ],
          "scatter": [
           {
            "fillpattern": {
             "fillmode": "overlay",
             "size": 10,
             "solidity": 0.2
            },
            "type": "scatter"
           }
          ],
          "scatter3d": [
           {
            "line": {
             "colorbar": {
              "outlinewidth": 0,
              "ticks": ""
             }
            },
            "marker": {
             "colorbar": {
              "outlinewidth": 0,
              "ticks": ""
             }
            },
            "type": "scatter3d"
           }
          ],
          "scattercarpet": [
           {
            "marker": {
             "colorbar": {
              "outlinewidth": 0,
              "ticks": ""
             }
            },
            "type": "scattercarpet"
           }
          ],
          "scattergeo": [
           {
            "marker": {
             "colorbar": {
              "outlinewidth": 0,
              "ticks": ""
             }
            },
            "type": "scattergeo"
           }
          ],
          "scattergl": [
           {
            "marker": {
             "colorbar": {
              "outlinewidth": 0,
              "ticks": ""
             }
            },
            "type": "scattergl"
           }
          ],
          "scattermap": [
           {
            "marker": {
             "colorbar": {
              "outlinewidth": 0,
              "ticks": ""
             }
            },
            "type": "scattermap"
           }
          ],
          "scattermapbox": [
           {
            "marker": {
             "colorbar": {
              "outlinewidth": 0,
              "ticks": ""
             }
            },
            "type": "scattermapbox"
           }
          ],
          "scatterpolar": [
           {
            "marker": {
             "colorbar": {
              "outlinewidth": 0,
              "ticks": ""
             }
            },
            "type": "scatterpolar"
           }
          ],
          "scatterpolargl": [
           {
            "marker": {
             "colorbar": {
              "outlinewidth": 0,
              "ticks": ""
             }
            },
            "type": "scatterpolargl"
           }
          ],
          "scatterternary": [
           {
            "marker": {
             "colorbar": {
              "outlinewidth": 0,
              "ticks": ""
             }
            },
            "type": "scatterternary"
           }
          ],
          "surface": [
           {
            "colorbar": {
             "outlinewidth": 0,
             "ticks": ""
            },
            "colorscale": [
             [
              0,
              "#0d0887"
             ],
             [
              0.1111111111111111,
              "#46039f"
             ],
             [
              0.2222222222222222,
              "#7201a8"
             ],
             [
              0.3333333333333333,
              "#9c179e"
             ],
             [
              0.4444444444444444,
              "#bd3786"
             ],
             [
              0.5555555555555556,
              "#d8576b"
             ],
             [
              0.6666666666666666,
              "#ed7953"
             ],
             [
              0.7777777777777778,
              "#fb9f3a"
             ],
             [
              0.8888888888888888,
              "#fdca26"
             ],
             [
              1,
              "#f0f921"
             ]
            ],
            "type": "surface"
           }
          ],
          "table": [
           {
            "cells": {
             "fill": {
              "color": "#EBF0F8"
             },
             "line": {
              "color": "white"
             }
            },
            "header": {
             "fill": {
              "color": "#C8D4E3"
             },
             "line": {
              "color": "white"
             }
            },
            "type": "table"
           }
          ]
         },
         "layout": {
          "annotationdefaults": {
           "arrowcolor": "#2a3f5f",
           "arrowhead": 0,
           "arrowwidth": 1
          },
          "autotypenumbers": "strict",
          "coloraxis": {
           "colorbar": {
            "outlinewidth": 0,
            "ticks": ""
           }
          },
          "colorscale": {
           "diverging": [
            [
             0,
             "#8e0152"
            ],
            [
             0.1,
             "#c51b7d"
            ],
            [
             0.2,
             "#de77ae"
            ],
            [
             0.3,
             "#f1b6da"
            ],
            [
             0.4,
             "#fde0ef"
            ],
            [
             0.5,
             "#f7f7f7"
            ],
            [
             0.6,
             "#e6f5d0"
            ],
            [
             0.7,
             "#b8e186"
            ],
            [
             0.8,
             "#7fbc41"
            ],
            [
             0.9,
             "#4d9221"
            ],
            [
             1,
             "#276419"
            ]
           ],
           "sequential": [
            [
             0,
             "#0d0887"
            ],
            [
             0.1111111111111111,
             "#46039f"
            ],
            [
             0.2222222222222222,
             "#7201a8"
            ],
            [
             0.3333333333333333,
             "#9c179e"
            ],
            [
             0.4444444444444444,
             "#bd3786"
            ],
            [
             0.5555555555555556,
             "#d8576b"
            ],
            [
             0.6666666666666666,
             "#ed7953"
            ],
            [
             0.7777777777777778,
             "#fb9f3a"
            ],
            [
             0.8888888888888888,
             "#fdca26"
            ],
            [
             1,
             "#f0f921"
            ]
           ],
           "sequentialminus": [
            [
             0,
             "#0d0887"
            ],
            [
             0.1111111111111111,
             "#46039f"
            ],
            [
             0.2222222222222222,
             "#7201a8"
            ],
            [
             0.3333333333333333,
             "#9c179e"
            ],
            [
             0.4444444444444444,
             "#bd3786"
            ],
            [
             0.5555555555555556,
             "#d8576b"
            ],
            [
             0.6666666666666666,
             "#ed7953"
            ],
            [
             0.7777777777777778,
             "#fb9f3a"
            ],
            [
             0.8888888888888888,
             "#fdca26"
            ],
            [
             1,
             "#f0f921"
            ]
           ]
          },
          "colorway": [
           "#636efa",
           "#EF553B",
           "#00cc96",
           "#ab63fa",
           "#FFA15A",
           "#19d3f3",
           "#FF6692",
           "#B6E880",
           "#FF97FF",
           "#FECB52"
          ],
          "font": {
           "color": "#2a3f5f"
          },
          "geo": {
           "bgcolor": "white",
           "lakecolor": "white",
           "landcolor": "#E5ECF6",
           "showlakes": true,
           "showland": true,
           "subunitcolor": "white"
          },
          "hoverlabel": {
           "align": "left"
          },
          "hovermode": "closest",
          "mapbox": {
           "style": "light"
          },
          "paper_bgcolor": "white",
          "plot_bgcolor": "#E5ECF6",
          "polar": {
           "angularaxis": {
            "gridcolor": "white",
            "linecolor": "white",
            "ticks": ""
           },
           "bgcolor": "#E5ECF6",
           "radialaxis": {
            "gridcolor": "white",
            "linecolor": "white",
            "ticks": ""
           }
          },
          "scene": {
           "xaxis": {
            "backgroundcolor": "#E5ECF6",
            "gridcolor": "white",
            "gridwidth": 2,
            "linecolor": "white",
            "showbackground": true,
            "ticks": "",
            "zerolinecolor": "white"
           },
           "yaxis": {
            "backgroundcolor": "#E5ECF6",
            "gridcolor": "white",
            "gridwidth": 2,
            "linecolor": "white",
            "showbackground": true,
            "ticks": "",
            "zerolinecolor": "white"
           },
           "zaxis": {
            "backgroundcolor": "#E5ECF6",
            "gridcolor": "white",
            "gridwidth": 2,
            "linecolor": "white",
            "showbackground": true,
            "ticks": "",
            "zerolinecolor": "white"
           }
          },
          "shapedefaults": {
           "line": {
            "color": "#2a3f5f"
           }
          },
          "ternary": {
           "aaxis": {
            "gridcolor": "white",
            "linecolor": "white",
            "ticks": ""
           },
           "baxis": {
            "gridcolor": "white",
            "linecolor": "white",
            "ticks": ""
           },
           "bgcolor": "#E5ECF6",
           "caxis": {
            "gridcolor": "white",
            "linecolor": "white",
            "ticks": ""
           }
          },
          "title": {
           "x": 0.05
          },
          "xaxis": {
           "automargin": true,
           "gridcolor": "white",
           "linecolor": "white",
           "ticks": "",
           "title": {
            "standoff": 15
           },
           "zerolinecolor": "white",
           "zerolinewidth": 2
          },
          "yaxis": {
           "automargin": true,
           "gridcolor": "white",
           "linecolor": "white",
           "ticks": "",
           "title": {
            "standoff": 15
           },
           "zerolinecolor": "white",
           "zerolinewidth": 2
          }
         }
        },
        "title": {
         "font": {
          "size": 16
         },
         "text": "Interactive: Accident Trends by State (Top 10 States)"
        },
        "xaxis": {
         "anchor": "y",
         "domain": [
          0,
          1
         ],
         "title": {
          "text": "Year"
         }
        },
        "yaxis": {
         "anchor": "x",
         "domain": [
          0,
          1
         ],
         "title": {
          "text": "Number of Accidents"
         }
        }
       }
      }
     },
     "metadata": {},
     "output_type": "display_data"
    },
    {
     "name": "stdout",
     "output_type": "stream",
     "text": [
      "\n",
      "Animated severity distribution by year...\n"
     ]
    },
    {
     "data": {
      "application/vnd.plotly.v1+json": {
       "config": {
        "plotlyServerURL": "https://plot.ly"
       },
       "data": [
        {
         "hovertemplate": "year=2016<br>Severity Level=%{marker.color}<br>Number of Accidents=%{y}<extra></extra>",
         "legendgroup": "",
         "marker": {
          "color": {
           "bdata": "AQIDBA==",
           "dtype": "i1"
          },
          "coloraxis": "coloraxis",
          "pattern": {
           "shape": ""
          }
         },
         "name": "",
         "orientation": "v",
         "showlegend": false,
         "textposition": "auto",
         "type": "bar",
         "x": {
          "bdata": "AQIDBA==",
          "dtype": "i1"
         },
         "xaxis": "x",
         "y": {
          "bdata": "4QAAAMoeBAAH7QEAEzgAAA==",
          "dtype": "i4"
         },
         "yaxis": "y"
        }
       ],
       "frames": [
        {
         "data": [
          {
           "hovertemplate": "year=2016<br>Severity Level=%{marker.color}<br>Number of Accidents=%{y}<extra></extra>",
           "legendgroup": "",
           "marker": {
            "color": {
             "bdata": "AQIDBA==",
             "dtype": "i1"
            },
            "coloraxis": "coloraxis",
            "pattern": {
             "shape": ""
            }
           },
           "name": "",
           "orientation": "v",
           "showlegend": false,
           "textposition": "auto",
           "type": "bar",
           "x": {
            "bdata": "AQIDBA==",
            "dtype": "i1"
           },
           "xaxis": "x",
           "y": {
            "bdata": "4QAAAMoeBAAH7QEAEzgAAA==",
            "dtype": "i4"
           },
           "yaxis": "y"
          }
         ],
         "name": "2016"
        },
        {
         "data": [
          {
           "hovertemplate": "year=2017<br>Severity Level=%{marker.color}<br>Number of Accidents=%{y}<extra></extra>",
           "legendgroup": "",
           "marker": {
            "color": {
             "bdata": "AQIDBA==",
             "dtype": "i1"
            },
            "coloraxis": "coloraxis",
            "pattern": {
             "shape": ""
            }
           },
           "name": "",
           "orientation": "v",
           "showlegend": false,
           "textposition": "auto",
           "type": "bar",
           "x": {
            "bdata": "AQIDBA==",
            "dtype": "i1"
           },
           "xaxis": "x",
           "y": {
            "bdata": "GgEAAIoOBwABhwMAaF4AAA==",
            "dtype": "i4"
           },
           "yaxis": "y"
          }
         ],
         "name": "2017"
        },
        {
         "data": [
          {
           "hovertemplate": "year=2018<br>Severity Level=%{marker.color}<br>Number of Accidents=%{y}<extra></extra>",
           "legendgroup": "",
           "marker": {
            "color": {
             "bdata": "AQIDBA==",
             "dtype": "i1"
            },
            "coloraxis": "coloraxis",
            "pattern": {
             "shape": ""
            }
           },
           "name": "",
           "orientation": "v",
           "showlegend": false,
           "textposition": "auto",
           "type": "bar",
           "x": {
            "bdata": "AQIDBA==",
            "dtype": "i1"
           },
           "xaxis": "x",
           "y": {
            "bdata": "AwEAAMzECABidwQAwWQAAA==",
            "dtype": "i4"
           },
           "yaxis": "y"
          }
         ],
         "name": "2018"
        },
        {
         "data": [
          {
           "hovertemplate": "year=2019<br>Severity Level=%{marker.color}<br>Number of Accidents=%{y}<extra></extra>",
           "legendgroup": "",
           "marker": {
            "color": {
             "bdata": "AQIDBA==",
             "dtype": "i1"
            },
            "coloraxis": "coloraxis",
            "pattern": {
             "shape": ""
            }
           },
           "name": "",
           "orientation": "v",
           "showlegend": false,
           "textposition": "auto",
           "type": "bar",
           "x": {
            "bdata": "AQIDBA==",
            "dtype": "i1"
           },
           "xaxis": "x",
           "y": {
            "bdata": "ywAAABCACgAdoQMAx20AAA==",
            "dtype": "i4"
           },
           "yaxis": "y"
          }
         ],
         "name": "2019"
        },
        {
         "data": [
          {
           "hovertemplate": "year=2020<br>Severity Level=%{marker.color}<br>Number of Accidents=%{y}<extra></extra>",
           "legendgroup": "",
           "marker": {
            "color": {
             "bdata": "AQIDBA==",
             "dtype": "i1"
            },
            "coloraxis": "coloraxis",
            "pattern": {
             "shape": ""
            }
           },
           "name": "",
           "orientation": "v",
           "showlegend": false,
           "textposition": "auto",
           "type": "bar",
           "x": {
            "bdata": "AQIDBA==",
            "dtype": "i1"
           },
           "xaxis": "x",
           "y": {
            "bdata": "024AAOtADgAI1AIAW3kAAA==",
            "dtype": "i4"
           },
           "yaxis": "y"
          }
         ],
         "name": "2020"
        },
        {
         "data": [
          {
           "hovertemplate": "year=2021<br>Severity Level=%{marker.color}<br>Number of Accidents=%{y}<extra></extra>",
           "legendgroup": "",
           "marker": {
            "color": {
             "bdata": "AQIDBA==",
             "dtype": "i1"
            },
            "coloraxis": "coloraxis",
            "pattern": {
             "shape": ""
            }
           },
           "name": "",
           "orientation": "v",
           "showlegend": false,
           "textposition": "auto",
           "type": "bar",
           "x": {
            "bdata": "AQIDBA==",
            "dtype": "i1"
           },
           "xaxis": "x",
           "y": {
            "bdata": "lwAAALQgFQB1QgIAqXgAAA==",
            "dtype": "i4"
           },
           "yaxis": "y"
          }
         ],
         "name": "2021"
        },
        {
         "data": [
          {
           "hovertemplate": "year=2022<br>Severity Level=%{marker.color}<br>Number of Accidents=%{y}<extra></extra>",
           "legendgroup": "",
           "marker": {
            "color": {
             "bdata": "AQIDBA==",
             "dtype": "i1"
            },
            "coloraxis": "coloraxis",
            "pattern": {
             "shape": ""
            }
           },
           "name": "",
           "orientation": "v",
           "showlegend": false,
           "textposition": "auto",
           "type": "bar",
           "x": {
            "bdata": "AQIDBA==",
            "dtype": "i1"
           },
           "xaxis": "x",
           "y": {
            "bdata": "85MAABJ3GACFMAEACqkAAA==",
            "dtype": "i4"
           },
           "yaxis": "y"
          }
         ],
         "name": "2022"
        },
        {
         "data": [
          {
           "hovertemplate": "year=2023<br>Severity Level=%{marker.color}<br>Number of Accidents=%{y}<extra></extra>",
           "legendgroup": "",
           "marker": {
            "color": {
             "bdata": "AgQ=",
             "dtype": "i1"
            },
            "coloraxis": "coloraxis",
            "pattern": {
             "shape": ""
            }
           },
           "name": "",
           "orientation": "v",
           "showlegend": false,
           "textposition": "auto",
           "type": "bar",
           "x": {
            "bdata": "AgQ=",
            "dtype": "i1"
           },
           "xaxis": "x",
           "y": {
            "bdata": "1KcDAJUbAAA=",
            "dtype": "i4"
           },
           "yaxis": "y"
          }
         ],
         "name": "2023"
        }
       ],
       "layout": {
        "barmode": "relative",
        "coloraxis": {
         "colorbar": {
          "title": {
           "text": "Severity Level"
          }
         },
         "colorscale": [
          [
           0,
           "rgb(255,245,240)"
          ],
          [
           0.125,
           "rgb(254,224,210)"
          ],
          [
           0.25,
           "rgb(252,187,161)"
          ],
          [
           0.375,
           "rgb(252,146,114)"
          ],
          [
           0.5,
           "rgb(251,106,74)"
          ],
          [
           0.625,
           "rgb(239,59,44)"
          ],
          [
           0.75,
           "rgb(203,24,29)"
          ],
          [
           0.875,
           "rgb(165,15,21)"
          ],
          [
           1,
           "rgb(103,0,13)"
          ]
         ]
        },
        "font": {
         "size": 12
        },
        "height": 500,
        "legend": {
         "tracegroupgap": 0
        },
        "showlegend": false,
        "sliders": [
         {
          "active": 0,
          "currentvalue": {
           "prefix": "year="
          },
          "len": 0.9,
          "pad": {
           "b": 10,
           "t": 60
          },
          "steps": [
           {
            "args": [
             [
              "2016"
             ],
             {
              "frame": {
               "duration": 0,
               "redraw": true
              },
              "fromcurrent": true,
              "mode": "immediate",
              "transition": {
               "duration": 0,
               "easing": "linear"
              }
             }
            ],
            "label": "2016",
            "method": "animate"
           },
           {
            "args": [
             [
              "2017"
             ],
             {
              "frame": {
               "duration": 0,
               "redraw": true
              },
              "fromcurrent": true,
              "mode": "immediate",
              "transition": {
               "duration": 0,
               "easing": "linear"
              }
             }
            ],
            "label": "2017",
            "method": "animate"
           },
           {
            "args": [
             [
              "2018"
             ],
             {
              "frame": {
               "duration": 0,
               "redraw": true
              },
              "fromcurrent": true,
              "mode": "immediate",
              "transition": {
               "duration": 0,
               "easing": "linear"
              }
             }
            ],
            "label": "2018",
            "method": "animate"
           },
           {
            "args": [
             [
              "2019"
             ],
             {
              "frame": {
               "duration": 0,
               "redraw": true
              },
              "fromcurrent": true,
              "mode": "immediate",
              "transition": {
               "duration": 0,
               "easing": "linear"
              }
             }
            ],
            "label": "2019",
            "method": "animate"
           },
           {
            "args": [
             [
              "2020"
             ],
             {
              "frame": {
               "duration": 0,
               "redraw": true
              },
              "fromcurrent": true,
              "mode": "immediate",
              "transition": {
               "duration": 0,
               "easing": "linear"
              }
             }
            ],
            "label": "2020",
            "method": "animate"
           },
           {
            "args": [
             [
              "2021"
             ],
             {
              "frame": {
               "duration": 0,
               "redraw": true
              },
              "fromcurrent": true,
              "mode": "immediate",
              "transition": {
               "duration": 0,
               "easing": "linear"
              }
             }
            ],
            "label": "2021",
            "method": "animate"
           },
           {
            "args": [
             [
              "2022"
             ],
             {
              "frame": {
               "duration": 0,
               "redraw": true
              },
              "fromcurrent": true,
              "mode": "immediate",
              "transition": {
               "duration": 0,
               "easing": "linear"
              }
             }
            ],
            "label": "2022",
            "method": "animate"
           },
           {
            "args": [
             [
              "2023"
             ],
             {
              "frame": {
               "duration": 0,
               "redraw": true
              },
              "fromcurrent": true,
              "mode": "immediate",
              "transition": {
               "duration": 0,
               "easing": "linear"
              }
             }
            ],
            "label": "2023",
            "method": "animate"
           }
          ],
          "x": 0.1,
          "xanchor": "left",
          "y": 0,
          "yanchor": "top"
         }
        ],
        "template": {
         "data": {
          "bar": [
           {
            "error_x": {
             "color": "#2a3f5f"
            },
            "error_y": {
             "color": "#2a3f5f"
            },
            "marker": {
             "line": {
              "color": "#E5ECF6",
              "width": 0.5
             },
             "pattern": {
              "fillmode": "overlay",
              "size": 10,
              "solidity": 0.2
             }
            },
            "type": "bar"
           }
          ],
          "barpolar": [
           {
            "marker": {
             "line": {
              "color": "#E5ECF6",
              "width": 0.5
             },
             "pattern": {
              "fillmode": "overlay",
              "size": 10,
              "solidity": 0.2
             }
            },
            "type": "barpolar"
           }
          ],
          "carpet": [
           {
            "aaxis": {
             "endlinecolor": "#2a3f5f",
             "gridcolor": "white",
             "linecolor": "white",
             "minorgridcolor": "white",
             "startlinecolor": "#2a3f5f"
            },
            "baxis": {
             "endlinecolor": "#2a3f5f",
             "gridcolor": "white",
             "linecolor": "white",
             "minorgridcolor": "white",
             "startlinecolor": "#2a3f5f"
            },
            "type": "carpet"
           }
          ],
          "choropleth": [
           {
            "colorbar": {
             "outlinewidth": 0,
             "ticks": ""
            },
            "type": "choropleth"
           }
          ],
          "contour": [
           {
            "colorbar": {
             "outlinewidth": 0,
             "ticks": ""
            },
            "colorscale": [
             [
              0,
              "#0d0887"
             ],
             [
              0.1111111111111111,
              "#46039f"
             ],
             [
              0.2222222222222222,
              "#7201a8"
             ],
             [
              0.3333333333333333,
              "#9c179e"
             ],
             [
              0.4444444444444444,
              "#bd3786"
             ],
             [
              0.5555555555555556,
              "#d8576b"
             ],
             [
              0.6666666666666666,
              "#ed7953"
             ],
             [
              0.7777777777777778,
              "#fb9f3a"
             ],
             [
              0.8888888888888888,
              "#fdca26"
             ],
             [
              1,
              "#f0f921"
             ]
            ],
            "type": "contour"
           }
          ],
          "contourcarpet": [
           {
            "colorbar": {
             "outlinewidth": 0,
             "ticks": ""
            },
            "type": "contourcarpet"
           }
          ],
          "heatmap": [
           {
            "colorbar": {
             "outlinewidth": 0,
             "ticks": ""
            },
            "colorscale": [
             [
              0,
              "#0d0887"
             ],
             [
              0.1111111111111111,
              "#46039f"
             ],
             [
              0.2222222222222222,
              "#7201a8"
             ],
             [
              0.3333333333333333,
              "#9c179e"
             ],
             [
              0.4444444444444444,
              "#bd3786"
             ],
             [
              0.5555555555555556,
              "#d8576b"
             ],
             [
              0.6666666666666666,
              "#ed7953"
             ],
             [
              0.7777777777777778,
              "#fb9f3a"
             ],
             [
              0.8888888888888888,
              "#fdca26"
             ],
             [
              1,
              "#f0f921"
             ]
            ],
            "type": "heatmap"
           }
          ],
          "histogram": [
           {
            "marker": {
             "pattern": {
              "fillmode": "overlay",
              "size": 10,
              "solidity": 0.2
             }
            },
            "type": "histogram"
           }
          ],
          "histogram2d": [
           {
            "colorbar": {
             "outlinewidth": 0,
             "ticks": ""
            },
            "colorscale": [
             [
              0,
              "#0d0887"
             ],
             [
              0.1111111111111111,
              "#46039f"
             ],
             [
              0.2222222222222222,
              "#7201a8"
             ],
             [
              0.3333333333333333,
              "#9c179e"
             ],
             [
              0.4444444444444444,
              "#bd3786"
             ],
             [
              0.5555555555555556,
              "#d8576b"
             ],
             [
              0.6666666666666666,
              "#ed7953"
             ],
             [
              0.7777777777777778,
              "#fb9f3a"
             ],
             [
              0.8888888888888888,
              "#fdca26"
             ],
             [
              1,
              "#f0f921"
             ]
            ],
            "type": "histogram2d"
           }
          ],
          "histogram2dcontour": [
           {
            "colorbar": {
             "outlinewidth": 0,
             "ticks": ""
            },
            "colorscale": [
             [
              0,
              "#0d0887"
             ],
             [
              0.1111111111111111,
              "#46039f"
             ],
             [
              0.2222222222222222,
              "#7201a8"
             ],
             [
              0.3333333333333333,
              "#9c179e"
             ],
             [
              0.4444444444444444,
              "#bd3786"
             ],
             [
              0.5555555555555556,
              "#d8576b"
             ],
             [
              0.6666666666666666,
              "#ed7953"
             ],
             [
              0.7777777777777778,
              "#fb9f3a"
             ],
             [
              0.8888888888888888,
              "#fdca26"
             ],
             [
              1,
              "#f0f921"
             ]
            ],
            "type": "histogram2dcontour"
           }
          ],
          "mesh3d": [
           {
            "colorbar": {
             "outlinewidth": 0,
             "ticks": ""
            },
            "type": "mesh3d"
           }
          ],
          "parcoords": [
           {
            "line": {
             "colorbar": {
              "outlinewidth": 0,
              "ticks": ""
             }
            },
            "type": "parcoords"
           }
          ],
          "pie": [
           {
            "automargin": true,
            "type": "pie"
           }
          ],
          "scatter": [
           {
            "fillpattern": {
             "fillmode": "overlay",
             "size": 10,
             "solidity": 0.2
            },
            "type": "scatter"
           }
          ],
          "scatter3d": [
           {
            "line": {
             "colorbar": {
              "outlinewidth": 0,
              "ticks": ""
             }
            },
            "marker": {
             "colorbar": {
              "outlinewidth": 0,
              "ticks": ""
             }
            },
            "type": "scatter3d"
           }
          ],
          "scattercarpet": [
           {
            "marker": {
             "colorbar": {
              "outlinewidth": 0,
              "ticks": ""
             }
            },
            "type": "scattercarpet"
           }
          ],
          "scattergeo": [
           {
            "marker": {
             "colorbar": {
              "outlinewidth": 0,
              "ticks": ""
             }
            },
            "type": "scattergeo"
           }
          ],
          "scattergl": [
           {
            "marker": {
             "colorbar": {
              "outlinewidth": 0,
              "ticks": ""
             }
            },
            "type": "scattergl"
           }
          ],
          "scattermap": [
           {
            "marker": {
             "colorbar": {
              "outlinewidth": 0,
              "ticks": ""
             }
            },
            "type": "scattermap"
           }
          ],
          "scattermapbox": [
           {
            "marker": {
             "colorbar": {
              "outlinewidth": 0,
              "ticks": ""
             }
            },
            "type": "scattermapbox"
           }
          ],
          "scatterpolar": [
           {
            "marker": {
             "colorbar": {
              "outlinewidth": 0,
              "ticks": ""
             }
            },
            "type": "scatterpolar"
           }
          ],
          "scatterpolargl": [
           {
            "marker": {
             "colorbar": {
              "outlinewidth": 0,
              "ticks": ""
             }
            },
            "type": "scatterpolargl"
           }
          ],
          "scatterternary": [
           {
            "marker": {
             "colorbar": {
              "outlinewidth": 0,
              "ticks": ""
             }
            },
            "type": "scatterternary"
           }
          ],
          "surface": [
           {
            "colorbar": {
             "outlinewidth": 0,
             "ticks": ""
            },
            "colorscale": [
             [
              0,
              "#0d0887"
             ],
             [
              0.1111111111111111,
              "#46039f"
             ],
             [
              0.2222222222222222,
              "#7201a8"
             ],
             [
              0.3333333333333333,
              "#9c179e"
             ],
             [
              0.4444444444444444,
              "#bd3786"
             ],
             [
              0.5555555555555556,
              "#d8576b"
             ],
             [
              0.6666666666666666,
              "#ed7953"
             ],
             [
              0.7777777777777778,
              "#fb9f3a"
             ],
             [
              0.8888888888888888,
              "#fdca26"
             ],
             [
              1,
              "#f0f921"
             ]
            ],
            "type": "surface"
           }
          ],
          "table": [
           {
            "cells": {
             "fill": {
              "color": "#EBF0F8"
             },
             "line": {
              "color": "white"
             }
            },
            "header": {
             "fill": {
              "color": "#C8D4E3"
             },
             "line": {
              "color": "white"
             }
            },
            "type": "table"
           }
          ]
         },
         "layout": {
          "annotationdefaults": {
           "arrowcolor": "#2a3f5f",
           "arrowhead": 0,
           "arrowwidth": 1
          },
          "autotypenumbers": "strict",
          "coloraxis": {
           "colorbar": {
            "outlinewidth": 0,
            "ticks": ""
           }
          },
          "colorscale": {
           "diverging": [
            [
             0,
             "#8e0152"
            ],
            [
             0.1,
             "#c51b7d"
            ],
            [
             0.2,
             "#de77ae"
            ],
            [
             0.3,
             "#f1b6da"
            ],
            [
             0.4,
             "#fde0ef"
            ],
            [
             0.5,
             "#f7f7f7"
            ],
            [
             0.6,
             "#e6f5d0"
            ],
            [
             0.7,
             "#b8e186"
            ],
            [
             0.8,
             "#7fbc41"
            ],
            [
             0.9,
             "#4d9221"
            ],
            [
             1,
             "#276419"
            ]
           ],
           "sequential": [
            [
             0,
             "#0d0887"
            ],
            [
             0.1111111111111111,
             "#46039f"
            ],
            [
             0.2222222222222222,
             "#7201a8"
            ],
            [
             0.3333333333333333,
             "#9c179e"
            ],
            [
             0.4444444444444444,
             "#bd3786"
            ],
            [
             0.5555555555555556,
             "#d8576b"
            ],
            [
             0.6666666666666666,
             "#ed7953"
            ],
            [
             0.7777777777777778,
             "#fb9f3a"
            ],
            [
             0.8888888888888888,
             "#fdca26"
            ],
            [
             1,
             "#f0f921"
            ]
           ],
           "sequentialminus": [
            [
             0,
             "#0d0887"
            ],
            [
             0.1111111111111111,
             "#46039f"
            ],
            [
             0.2222222222222222,
             "#7201a8"
            ],
            [
             0.3333333333333333,
             "#9c179e"
            ],
            [
             0.4444444444444444,
             "#bd3786"
            ],
            [
             0.5555555555555556,
             "#d8576b"
            ],
            [
             0.6666666666666666,
             "#ed7953"
            ],
            [
             0.7777777777777778,
             "#fb9f3a"
            ],
            [
             0.8888888888888888,
             "#fdca26"
            ],
            [
             1,
             "#f0f921"
            ]
           ]
          },
          "colorway": [
           "#636efa",
           "#EF553B",
           "#00cc96",
           "#ab63fa",
           "#FFA15A",
           "#19d3f3",
           "#FF6692",
           "#B6E880",
           "#FF97FF",
           "#FECB52"
          ],
          "font": {
           "color": "#2a3f5f"
          },
          "geo": {
           "bgcolor": "white",
           "lakecolor": "white",
           "landcolor": "#E5ECF6",
           "showlakes": true,
           "showland": true,
           "subunitcolor": "white"
          },
          "hoverlabel": {
           "align": "left"
          },
          "hovermode": "closest",
          "mapbox": {
           "style": "light"
          },
          "paper_bgcolor": "white",
          "plot_bgcolor": "#E5ECF6",
          "polar": {
           "angularaxis": {
            "gridcolor": "white",
            "linecolor": "white",
            "ticks": ""
           },
           "bgcolor": "#E5ECF6",
           "radialaxis": {
            "gridcolor": "white",
            "linecolor": "white",
            "ticks": ""
           }
          },
          "scene": {
           "xaxis": {
            "backgroundcolor": "#E5ECF6",
            "gridcolor": "white",
            "gridwidth": 2,
            "linecolor": "white",
            "showbackground": true,
            "ticks": "",
            "zerolinecolor": "white"
           },
           "yaxis": {
            "backgroundcolor": "#E5ECF6",
            "gridcolor": "white",
            "gridwidth": 2,
            "linecolor": "white",
            "showbackground": true,
            "ticks": "",
            "zerolinecolor": "white"
           },
           "zaxis": {
            "backgroundcolor": "#E5ECF6",
            "gridcolor": "white",
            "gridwidth": 2,
            "linecolor": "white",
            "showbackground": true,
            "ticks": "",
            "zerolinecolor": "white"
           }
          },
          "shapedefaults": {
           "line": {
            "color": "#2a3f5f"
           }
          },
          "ternary": {
           "aaxis": {
            "gridcolor": "white",
            "linecolor": "white",
            "ticks": ""
           },
           "baxis": {
            "gridcolor": "white",
            "linecolor": "white",
            "ticks": ""
           },
           "bgcolor": "#E5ECF6",
           "caxis": {
            "gridcolor": "white",
            "linecolor": "white",
            "ticks": ""
           }
          },
          "title": {
           "x": 0.05
          },
          "xaxis": {
           "automargin": true,
           "gridcolor": "white",
           "linecolor": "white",
           "ticks": "",
           "title": {
            "standoff": 15
           },
           "zerolinecolor": "white",
           "zerolinewidth": 2
          },
          "yaxis": {
           "automargin": true,
           "gridcolor": "white",
           "linecolor": "white",
           "ticks": "",
           "title": {
            "standoff": 15
           },
           "zerolinecolor": "white",
           "zerolinewidth": 2
          }
         }
        },
        "title": {
         "font": {
          "size": 16
         },
         "text": "Animated: Accident Count by Severity Level Over Time"
        },
        "updatemenus": [
         {
          "buttons": [
           {
            "args": [
             null,
             {
              "frame": {
               "duration": 1000,
               "redraw": true
              },
              "fromcurrent": true,
              "mode": "immediate",
              "transition": {
               "duration": 500,
               "easing": "linear"
              }
             }
            ],
            "label": "&#9654;",
            "method": "animate"
           },
           {
            "args": [
             [
              null
             ],
             {
              "frame": {
               "duration": 0,
               "redraw": true
              },
              "fromcurrent": true,
              "mode": "immediate",
              "transition": {
               "duration": 0,
               "easing": "linear"
              }
             }
            ],
            "label": "&#9724;",
            "method": "animate"
           }
          ],
          "direction": "left",
          "pad": {
           "r": 10,
           "t": 70
          },
          "showactive": false,
          "type": "buttons",
          "x": 0.1,
          "xanchor": "right",
          "y": 0,
          "yanchor": "top"
         }
        ],
        "xaxis": {
         "anchor": "y",
         "domain": [
          0,
          1
         ],
         "title": {
          "text": "Severity Level"
         }
        },
        "yaxis": {
         "anchor": "x",
         "domain": [
          0,
          1
         ],
         "title": {
          "text": "Number of Accidents"
         }
        }
       }
      }
     },
     "metadata": {},
     "output_type": "display_data"
    },
    {
     "name": "stdout",
     "output_type": "stream",
     "text": [
      "\n",
      "3D interactive time pattern visualization...\n"
     ]
    },
    {
     "data": {
      "application/vnd.plotly.v1+json": {
       "config": {
        "plotlyServerURL": "https://plot.ly"
       },
       "data": [
        {
         "colorbar": {
          "title": {
           "text": "Number of Accidents"
          }
         },
         "colorscale": [
          [
           0,
           "#440154"
          ],
          [
           0.1111111111111111,
           "#482878"
          ],
          [
           0.2222222222222222,
           "#3e4989"
          ],
          [
           0.3333333333333333,
           "#31688e"
          ],
          [
           0.4444444444444444,
           "#26828e"
          ],
          [
           0.5555555555555556,
           "#1f9e89"
          ],
          [
           0.6666666666666666,
           "#35b779"
          ],
          [
           0.7777777777777778,
           "#6ece58"
          ],
          [
           0.8888888888888888,
           "#b5de2b"
          ],
          [
           1,
           "#fde725"
          ]
         ],
         "type": "surface",
         "x": {
          "bdata": "AAECAwQFBg==",
          "dtype": "i1"
         },
         "y": {
          "bdata": "AAECAwQFBgcICQoLDA0ODxAREhMUFRYX",
          "dtype": "i1"
         },
         "z": {
          "bdata": "tEcAAEc2AAD/OAAAIjsAACg9AACrPwAAC0gAAPRAAACcLQAAmS4AAMUxAACvNAAAzTYAAMVAAADeQQAAhSwAAFApAABULAAADDAAAKgzAABwRAAAfzgAADQsAABSJwAA2SgAAHcsAACdMAAApTUAAHo1AAAsaQAAhF4AAK5jAAAJZwAA4HIAAKs1AAAwNQAA9ZsAAAycAAAhngAAbp0AAOCZAAC2OAAAJz8AANYZAQDlMwEALzIBAH0kAQCOBgEAMUcAAD5HAAAIkQEAiNABALbJAQBxtwEAJHgBALdUAACVRgAAAowBAAXIAQDxvgEA5KoBAAxwAQCrWwAAglEAAPPmAAAR/wAAvgABANP4AADa6AAAKXAAAMxkAAAC0wAA59sAAE7dAADJ3gAAweYAACWEAABPdgAAAdUAAH3TAACN2gAAst0AALz6AAAYmQAAfX8AAKPLAABdzQAAMNMAAEbaAAAiAQEApKMAAF6IAAA24wAAj+kAAHLzAAA0+AAAVyABAH2rAAAhjAAAsAcBANkQAQBeGAEAcCMBAFpLAQB8rQAA4YQAAAVCAQCAUwEAkFkBABVkAQA9iwEA16IAALOAAADNawEAxIkBAGqMAQDdkgEAo7ABACObAAAGegAATGkBABWQAQDDlwEAR5cBAPCZAQCujQAAN3QAADwCAQBGHQEA6iIBAKweAQCwOgEAq4cAAKZnAADfqAAA668AAA+3AAAWuwAAwdgAAHt1AACnXQAANH4AAEJ/AAClhQAAWokAAHebAAA3agAAilkAAM9kAAC8ZgAA6mwAAHZyAAAigAAARWcAAMFKAABDVwAAo1kAANZfAADxZAAAJnMAAElbAACNPQAAjj8AABBDAAAYRgAA7kcAAH5UAACcSwAA",
          "dtype": "i4",
          "shape": "24, 7"
         }
        }
       ],
       "layout": {
        "font": {
         "size": 12
        },
        "height": 600,
        "scene": {
         "xaxis": {
          "title": {
           "text": "Day of Week (0=Sunday, 6=Saturday)"
          }
         },
         "yaxis": {
          "title": {
           "text": "Hour of Day"
          }
         },
         "zaxis": {
          "title": {
           "text": "Number of Accidents"
          }
         }
        },
        "template": {
         "data": {
          "bar": [
           {
            "error_x": {
             "color": "#2a3f5f"
            },
            "error_y": {
             "color": "#2a3f5f"
            },
            "marker": {
             "line": {
              "color": "#E5ECF6",
              "width": 0.5
             },
             "pattern": {
              "fillmode": "overlay",
              "size": 10,
              "solidity": 0.2
             }
            },
            "type": "bar"
           }
          ],
          "barpolar": [
           {
            "marker": {
             "line": {
              "color": "#E5ECF6",
              "width": 0.5
             },
             "pattern": {
              "fillmode": "overlay",
              "size": 10,
              "solidity": 0.2
             }
            },
            "type": "barpolar"
           }
          ],
          "carpet": [
           {
            "aaxis": {
             "endlinecolor": "#2a3f5f",
             "gridcolor": "white",
             "linecolor": "white",
             "minorgridcolor": "white",
             "startlinecolor": "#2a3f5f"
            },
            "baxis": {
             "endlinecolor": "#2a3f5f",
             "gridcolor": "white",
             "linecolor": "white",
             "minorgridcolor": "white",
             "startlinecolor": "#2a3f5f"
            },
            "type": "carpet"
           }
          ],
          "choropleth": [
           {
            "colorbar": {
             "outlinewidth": 0,
             "ticks": ""
            },
            "type": "choropleth"
           }
          ],
          "contour": [
           {
            "colorbar": {
             "outlinewidth": 0,
             "ticks": ""
            },
            "colorscale": [
             [
              0,
              "#0d0887"
             ],
             [
              0.1111111111111111,
              "#46039f"
             ],
             [
              0.2222222222222222,
              "#7201a8"
             ],
             [
              0.3333333333333333,
              "#9c179e"
             ],
             [
              0.4444444444444444,
              "#bd3786"
             ],
             [
              0.5555555555555556,
              "#d8576b"
             ],
             [
              0.6666666666666666,
              "#ed7953"
             ],
             [
              0.7777777777777778,
              "#fb9f3a"
             ],
             [
              0.8888888888888888,
              "#fdca26"
             ],
             [
              1,
              "#f0f921"
             ]
            ],
            "type": "contour"
           }
          ],
          "contourcarpet": [
           {
            "colorbar": {
             "outlinewidth": 0,
             "ticks": ""
            },
            "type": "contourcarpet"
           }
          ],
          "heatmap": [
           {
            "colorbar": {
             "outlinewidth": 0,
             "ticks": ""
            },
            "colorscale": [
             [
              0,
              "#0d0887"
             ],
             [
              0.1111111111111111,
              "#46039f"
             ],
             [
              0.2222222222222222,
              "#7201a8"
             ],
             [
              0.3333333333333333,
              "#9c179e"
             ],
             [
              0.4444444444444444,
              "#bd3786"
             ],
             [
              0.5555555555555556,
              "#d8576b"
             ],
             [
              0.6666666666666666,
              "#ed7953"
             ],
             [
              0.7777777777777778,
              "#fb9f3a"
             ],
             [
              0.8888888888888888,
              "#fdca26"
             ],
             [
              1,
              "#f0f921"
             ]
            ],
            "type": "heatmap"
           }
          ],
          "histogram": [
           {
            "marker": {
             "pattern": {
              "fillmode": "overlay",
              "size": 10,
              "solidity": 0.2
             }
            },
            "type": "histogram"
           }
          ],
          "histogram2d": [
           {
            "colorbar": {
             "outlinewidth": 0,
             "ticks": ""
            },
            "colorscale": [
             [
              0,
              "#0d0887"
             ],
             [
              0.1111111111111111,
              "#46039f"
             ],
             [
              0.2222222222222222,
              "#7201a8"
             ],
             [
              0.3333333333333333,
              "#9c179e"
             ],
             [
              0.4444444444444444,
              "#bd3786"
             ],
             [
              0.5555555555555556,
              "#d8576b"
             ],
             [
              0.6666666666666666,
              "#ed7953"
             ],
             [
              0.7777777777777778,
              "#fb9f3a"
             ],
             [
              0.8888888888888888,
              "#fdca26"
             ],
             [
              1,
              "#f0f921"
             ]
            ],
            "type": "histogram2d"
           }
          ],
          "histogram2dcontour": [
           {
            "colorbar": {
             "outlinewidth": 0,
             "ticks": ""
            },
            "colorscale": [
             [
              0,
              "#0d0887"
             ],
             [
              0.1111111111111111,
              "#46039f"
             ],
             [
              0.2222222222222222,
              "#7201a8"
             ],
             [
              0.3333333333333333,
              "#9c179e"
             ],
             [
              0.4444444444444444,
              "#bd3786"
             ],
             [
              0.5555555555555556,
              "#d8576b"
             ],
             [
              0.6666666666666666,
              "#ed7953"
             ],
             [
              0.7777777777777778,
              "#fb9f3a"
             ],
             [
              0.8888888888888888,
              "#fdca26"
             ],
             [
              1,
              "#f0f921"
             ]
            ],
            "type": "histogram2dcontour"
           }
          ],
          "mesh3d": [
           {
            "colorbar": {
             "outlinewidth": 0,
             "ticks": ""
            },
            "type": "mesh3d"
           }
          ],
          "parcoords": [
           {
            "line": {
             "colorbar": {
              "outlinewidth": 0,
              "ticks": ""
             }
            },
            "type": "parcoords"
           }
          ],
          "pie": [
           {
            "automargin": true,
            "type": "pie"
           }
          ],
          "scatter": [
           {
            "fillpattern": {
             "fillmode": "overlay",
             "size": 10,
             "solidity": 0.2
            },
            "type": "scatter"
           }
          ],
          "scatter3d": [
           {
            "line": {
             "colorbar": {
              "outlinewidth": 0,
              "ticks": ""
             }
            },
            "marker": {
             "colorbar": {
              "outlinewidth": 0,
              "ticks": ""
             }
            },
            "type": "scatter3d"
           }
          ],
          "scattercarpet": [
           {
            "marker": {
             "colorbar": {
              "outlinewidth": 0,
              "ticks": ""
             }
            },
            "type": "scattercarpet"
           }
          ],
          "scattergeo": [
           {
            "marker": {
             "colorbar": {
              "outlinewidth": 0,
              "ticks": ""
             }
            },
            "type": "scattergeo"
           }
          ],
          "scattergl": [
           {
            "marker": {
             "colorbar": {
              "outlinewidth": 0,
              "ticks": ""
             }
            },
            "type": "scattergl"
           }
          ],
          "scattermap": [
           {
            "marker": {
             "colorbar": {
              "outlinewidth": 0,
              "ticks": ""
             }
            },
            "type": "scattermap"
           }
          ],
          "scattermapbox": [
           {
            "marker": {
             "colorbar": {
              "outlinewidth": 0,
              "ticks": ""
             }
            },
            "type": "scattermapbox"
           }
          ],
          "scatterpolar": [
           {
            "marker": {
             "colorbar": {
              "outlinewidth": 0,
              "ticks": ""
             }
            },
            "type": "scatterpolar"
           }
          ],
          "scatterpolargl": [
           {
            "marker": {
             "colorbar": {
              "outlinewidth": 0,
              "ticks": ""
             }
            },
            "type": "scatterpolargl"
           }
          ],
          "scatterternary": [
           {
            "marker": {
             "colorbar": {
              "outlinewidth": 0,
              "ticks": ""
             }
            },
            "type": "scatterternary"
           }
          ],
          "surface": [
           {
            "colorbar": {
             "outlinewidth": 0,
             "ticks": ""
            },
            "colorscale": [
             [
              0,
              "#0d0887"
             ],
             [
              0.1111111111111111,
              "#46039f"
             ],
             [
              0.2222222222222222,
              "#7201a8"
             ],
             [
              0.3333333333333333,
              "#9c179e"
             ],
             [
              0.4444444444444444,
              "#bd3786"
             ],
             [
              0.5555555555555556,
              "#d8576b"
             ],
             [
              0.6666666666666666,
              "#ed7953"
             ],
             [
              0.7777777777777778,
              "#fb9f3a"
             ],
             [
              0.8888888888888888,
              "#fdca26"
             ],
             [
              1,
              "#f0f921"
             ]
            ],
            "type": "surface"
           }
          ],
          "table": [
           {
            "cells": {
             "fill": {
              "color": "#EBF0F8"
             },
             "line": {
              "color": "white"
             }
            },
            "header": {
             "fill": {
              "color": "#C8D4E3"
             },
             "line": {
              "color": "white"
             }
            },
            "type": "table"
           }
          ]
         },
         "layout": {
          "annotationdefaults": {
           "arrowcolor": "#2a3f5f",
           "arrowhead": 0,
           "arrowwidth": 1
          },
          "autotypenumbers": "strict",
          "coloraxis": {
           "colorbar": {
            "outlinewidth": 0,
            "ticks": ""
           }
          },
          "colorscale": {
           "diverging": [
            [
             0,
             "#8e0152"
            ],
            [
             0.1,
             "#c51b7d"
            ],
            [
             0.2,
             "#de77ae"
            ],
            [
             0.3,
             "#f1b6da"
            ],
            [
             0.4,
             "#fde0ef"
            ],
            [
             0.5,
             "#f7f7f7"
            ],
            [
             0.6,
             "#e6f5d0"
            ],
            [
             0.7,
             "#b8e186"
            ],
            [
             0.8,
             "#7fbc41"
            ],
            [
             0.9,
             "#4d9221"
            ],
            [
             1,
             "#276419"
            ]
           ],
           "sequential": [
            [
             0,
             "#0d0887"
            ],
            [
             0.1111111111111111,
             "#46039f"
            ],
            [
             0.2222222222222222,
             "#7201a8"
            ],
            [
             0.3333333333333333,
             "#9c179e"
            ],
            [
             0.4444444444444444,
             "#bd3786"
            ],
            [
             0.5555555555555556,
             "#d8576b"
            ],
            [
             0.6666666666666666,
             "#ed7953"
            ],
            [
             0.7777777777777778,
             "#fb9f3a"
            ],
            [
             0.8888888888888888,
             "#fdca26"
            ],
            [
             1,
             "#f0f921"
            ]
           ],
           "sequentialminus": [
            [
             0,
             "#0d0887"
            ],
            [
             0.1111111111111111,
             "#46039f"
            ],
            [
             0.2222222222222222,
             "#7201a8"
            ],
            [
             0.3333333333333333,
             "#9c179e"
            ],
            [
             0.4444444444444444,
             "#bd3786"
            ],
            [
             0.5555555555555556,
             "#d8576b"
            ],
            [
             0.6666666666666666,
             "#ed7953"
            ],
            [
             0.7777777777777778,
             "#fb9f3a"
            ],
            [
             0.8888888888888888,
             "#fdca26"
            ],
            [
             1,
             "#f0f921"
            ]
           ]
          },
          "colorway": [
           "#636efa",
           "#EF553B",
           "#00cc96",
           "#ab63fa",
           "#FFA15A",
           "#19d3f3",
           "#FF6692",
           "#B6E880",
           "#FF97FF",
           "#FECB52"
          ],
          "font": {
           "color": "#2a3f5f"
          },
          "geo": {
           "bgcolor": "white",
           "lakecolor": "white",
           "landcolor": "#E5ECF6",
           "showlakes": true,
           "showland": true,
           "subunitcolor": "white"
          },
          "hoverlabel": {
           "align": "left"
          },
          "hovermode": "closest",
          "mapbox": {
           "style": "light"
          },
          "paper_bgcolor": "white",
          "plot_bgcolor": "#E5ECF6",
          "polar": {
           "angularaxis": {
            "gridcolor": "white",
            "linecolor": "white",
            "ticks": ""
           },
           "bgcolor": "#E5ECF6",
           "radialaxis": {
            "gridcolor": "white",
            "linecolor": "white",
            "ticks": ""
           }
          },
          "scene": {
           "xaxis": {
            "backgroundcolor": "#E5ECF6",
            "gridcolor": "white",
            "gridwidth": 2,
            "linecolor": "white",
            "showbackground": true,
            "ticks": "",
            "zerolinecolor": "white"
           },
           "yaxis": {
            "backgroundcolor": "#E5ECF6",
            "gridcolor": "white",
            "gridwidth": 2,
            "linecolor": "white",
            "showbackground": true,
            "ticks": "",
            "zerolinecolor": "white"
           },
           "zaxis": {
            "backgroundcolor": "#E5ECF6",
            "gridcolor": "white",
            "gridwidth": 2,
            "linecolor": "white",
            "showbackground": true,
            "ticks": "",
            "zerolinecolor": "white"
           }
          },
          "shapedefaults": {
           "line": {
            "color": "#2a3f5f"
           }
          },
          "ternary": {
           "aaxis": {
            "gridcolor": "white",
            "linecolor": "white",
            "ticks": ""
           },
           "baxis": {
            "gridcolor": "white",
            "linecolor": "white",
            "ticks": ""
           },
           "bgcolor": "#E5ECF6",
           "caxis": {
            "gridcolor": "white",
            "linecolor": "white",
            "ticks": ""
           }
          },
          "title": {
           "x": 0.05
          },
          "xaxis": {
           "automargin": true,
           "gridcolor": "white",
           "linecolor": "white",
           "ticks": "",
           "title": {
            "standoff": 15
           },
           "zerolinecolor": "white",
           "zerolinewidth": 2
          },
          "yaxis": {
           "automargin": true,
           "gridcolor": "white",
           "linecolor": "white",
           "ticks": "",
           "title": {
            "standoff": 15
           },
           "zerolinecolor": "white",
           "zerolinewidth": 2
          }
         }
        },
        "title": {
         "text": "3D Interactive: Accidents by Hour and Day of Week"
        }
       }
      }
     },
     "metadata": {},
     "output_type": "display_data"
    },
    {
     "name": "stdout",
     "output_type": "stream",
     "text": [
      "\n",
      " Interactive state comparison...\n"
     ]
    },
    {
     "data": {
      "application/vnd.plotly.v1+json": {
       "config": {
        "plotlyServerURL": "https://plot.ly"
       },
       "data": [
        {
         "hovertemplate": "<b>%{x}</b><br>Total Accidents: %{y:,}<br><extra></extra>",
         "legendgroup": "Very High",
         "marker": {
          "color": "rgb(103,0,13)",
          "pattern": {
           "shape": ""
          }
         },
         "name": "Very High",
         "orientation": "v",
         "showlegend": true,
         "textposition": "auto",
         "type": "bar",
         "x": [
          "CA"
         ],
         "xaxis": "x",
         "y": {
          "bdata": "eZIaAA==",
          "dtype": "i4"
         },
         "yaxis": "y"
        },
        {
         "hovertemplate": "<b>%{x}</b><br>Total Accidents: %{y:,}<br><extra></extra>",
         "legendgroup": "Medium",
         "marker": {
          "color": "rgb(165,15,21)",
          "pattern": {
           "shape": ""
          }
         },
         "name": "Medium",
         "orientation": "v",
         "showlegend": true,
         "textposition": "auto",
         "type": "bar",
         "x": [
          "FL"
         ],
         "xaxis": "x",
         "y": {
          "bdata": "QG4NAA==",
          "dtype": "i4"
         },
         "yaxis": "y"
        },
        {
         "hovertemplate": "<b>%{x}</b><br>Total Accidents: %{y:,}<br><extra></extra>",
         "legendgroup": "Low",
         "marker": {
          "color": "rgb(203,24,29)",
          "pattern": {
           "shape": ""
          }
         },
         "name": "Low",
         "orientation": "v",
         "showlegend": true,
         "textposition": "auto",
         "type": "bar",
         "x": [
          "TX",
          "SC"
         ],
         "xaxis": "x",
         "y": {
          "bdata": "teQIAF3WBQA=",
          "dtype": "i4"
         },
         "yaxis": "y"
        },
        {
         "hovertemplate": "<b>%{x}</b><br>Total Accidents: %{y:,}<br><extra></extra>",
         "legendgroup": "Very Low",
         "marker": {
          "color": "rgb(239,59,44)",
          "pattern": {
           "shape": ""
          }
         },
         "name": "Very Low",
         "orientation": "v",
         "showlegend": true,
         "textposition": "auto",
         "type": "bar",
         "x": [
          "NY",
          "NC",
          "VA",
          "PA",
          "MN",
          "OR",
          "AZ",
          "GA",
          "IL",
          "TN",
          "MI",
          "LA",
          "NJ",
          "MD",
          "OH",
          "WA"
         ],
         "xaxis": "x",
         "y": {
          "bdata": "OE8FABcpBQDFoAQArIYEAFTuAgDMvQIAcZoCABKVAgD+kwIA3I0CAI95AgDFSAIAryUCAIEkAgBjzQEAvaYBAA==",
          "dtype": "i4"
         },
         "yaxis": "y"
        }
       ],
       "layout": {
        "barmode": "relative",
        "font": {
         "size": 12
        },
        "height": 600,
        "legend": {
         "title": {
          "text": "Category"
         },
         "tracegroupgap": 0
        },
        "template": {
         "data": {
          "bar": [
           {
            "error_x": {
             "color": "#2a3f5f"
            },
            "error_y": {
             "color": "#2a3f5f"
            },
            "marker": {
             "line": {
              "color": "#E5ECF6",
              "width": 0.5
             },
             "pattern": {
              "fillmode": "overlay",
              "size": 10,
              "solidity": 0.2
             }
            },
            "type": "bar"
           }
          ],
          "barpolar": [
           {
            "marker": {
             "line": {
              "color": "#E5ECF6",
              "width": 0.5
             },
             "pattern": {
              "fillmode": "overlay",
              "size": 10,
              "solidity": 0.2
             }
            },
            "type": "barpolar"
           }
          ],
          "carpet": [
           {
            "aaxis": {
             "endlinecolor": "#2a3f5f",
             "gridcolor": "white",
             "linecolor": "white",
             "minorgridcolor": "white",
             "startlinecolor": "#2a3f5f"
            },
            "baxis": {
             "endlinecolor": "#2a3f5f",
             "gridcolor": "white",
             "linecolor": "white",
             "minorgridcolor": "white",
             "startlinecolor": "#2a3f5f"
            },
            "type": "carpet"
           }
          ],
          "choropleth": [
           {
            "colorbar": {
             "outlinewidth": 0,
             "ticks": ""
            },
            "type": "choropleth"
           }
          ],
          "contour": [
           {
            "colorbar": {
             "outlinewidth": 0,
             "ticks": ""
            },
            "colorscale": [
             [
              0,
              "#0d0887"
             ],
             [
              0.1111111111111111,
              "#46039f"
             ],
             [
              0.2222222222222222,
              "#7201a8"
             ],
             [
              0.3333333333333333,
              "#9c179e"
             ],
             [
              0.4444444444444444,
              "#bd3786"
             ],
             [
              0.5555555555555556,
              "#d8576b"
             ],
             [
              0.6666666666666666,
              "#ed7953"
             ],
             [
              0.7777777777777778,
              "#fb9f3a"
             ],
             [
              0.8888888888888888,
              "#fdca26"
             ],
             [
              1,
              "#f0f921"
             ]
            ],
            "type": "contour"
           }
          ],
          "contourcarpet": [
           {
            "colorbar": {
             "outlinewidth": 0,
             "ticks": ""
            },
            "type": "contourcarpet"
           }
          ],
          "heatmap": [
           {
            "colorbar": {
             "outlinewidth": 0,
             "ticks": ""
            },
            "colorscale": [
             [
              0,
              "#0d0887"
             ],
             [
              0.1111111111111111,
              "#46039f"
             ],
             [
              0.2222222222222222,
              "#7201a8"
             ],
             [
              0.3333333333333333,
              "#9c179e"
             ],
             [
              0.4444444444444444,
              "#bd3786"
             ],
             [
              0.5555555555555556,
              "#d8576b"
             ],
             [
              0.6666666666666666,
              "#ed7953"
             ],
             [
              0.7777777777777778,
              "#fb9f3a"
             ],
             [
              0.8888888888888888,
              "#fdca26"
             ],
             [
              1,
              "#f0f921"
             ]
            ],
            "type": "heatmap"
           }
          ],
          "histogram": [
           {
            "marker": {
             "pattern": {
              "fillmode": "overlay",
              "size": 10,
              "solidity": 0.2
             }
            },
            "type": "histogram"
           }
          ],
          "histogram2d": [
           {
            "colorbar": {
             "outlinewidth": 0,
             "ticks": ""
            },
            "colorscale": [
             [
              0,
              "#0d0887"
             ],
             [
              0.1111111111111111,
              "#46039f"
             ],
             [
              0.2222222222222222,
              "#7201a8"
             ],
             [
              0.3333333333333333,
              "#9c179e"
             ],
             [
              0.4444444444444444,
              "#bd3786"
             ],
             [
              0.5555555555555556,
              "#d8576b"
             ],
             [
              0.6666666666666666,
              "#ed7953"
             ],
             [
              0.7777777777777778,
              "#fb9f3a"
             ],
             [
              0.8888888888888888,
              "#fdca26"
             ],
             [
              1,
              "#f0f921"
             ]
            ],
            "type": "histogram2d"
           }
          ],
          "histogram2dcontour": [
           {
            "colorbar": {
             "outlinewidth": 0,
             "ticks": ""
            },
            "colorscale": [
             [
              0,
              "#0d0887"
             ],
             [
              0.1111111111111111,
              "#46039f"
             ],
             [
              0.2222222222222222,
              "#7201a8"
             ],
             [
              0.3333333333333333,
              "#9c179e"
             ],
             [
              0.4444444444444444,
              "#bd3786"
             ],
             [
              0.5555555555555556,
              "#d8576b"
             ],
             [
              0.6666666666666666,
              "#ed7953"
             ],
             [
              0.7777777777777778,
              "#fb9f3a"
             ],
             [
              0.8888888888888888,
              "#fdca26"
             ],
             [
              1,
              "#f0f921"
             ]
            ],
            "type": "histogram2dcontour"
           }
          ],
          "mesh3d": [
           {
            "colorbar": {
             "outlinewidth": 0,
             "ticks": ""
            },
            "type": "mesh3d"
           }
          ],
          "parcoords": [
           {
            "line": {
             "colorbar": {
              "outlinewidth": 0,
              "ticks": ""
             }
            },
            "type": "parcoords"
           }
          ],
          "pie": [
           {
            "automargin": true,
            "type": "pie"
           }
          ],
          "scatter": [
           {
            "fillpattern": {
             "fillmode": "overlay",
             "size": 10,
             "solidity": 0.2
            },
            "type": "scatter"
           }
          ],
          "scatter3d": [
           {
            "line": {
             "colorbar": {
              "outlinewidth": 0,
              "ticks": ""
             }
            },
            "marker": {
             "colorbar": {
              "outlinewidth": 0,
              "ticks": ""
             }
            },
            "type": "scatter3d"
           }
          ],
          "scattercarpet": [
           {
            "marker": {
             "colorbar": {
              "outlinewidth": 0,
              "ticks": ""
             }
            },
            "type": "scattercarpet"
           }
          ],
          "scattergeo": [
           {
            "marker": {
             "colorbar": {
              "outlinewidth": 0,
              "ticks": ""
             }
            },
            "type": "scattergeo"
           }
          ],
          "scattergl": [
           {
            "marker": {
             "colorbar": {
              "outlinewidth": 0,
              "ticks": ""
             }
            },
            "type": "scattergl"
           }
          ],
          "scattermap": [
           {
            "marker": {
             "colorbar": {
              "outlinewidth": 0,
              "ticks": ""
             }
            },
            "type": "scattermap"
           }
          ],
          "scattermapbox": [
           {
            "marker": {
             "colorbar": {
              "outlinewidth": 0,
              "ticks": ""
             }
            },
            "type": "scattermapbox"
           }
          ],
          "scatterpolar": [
           {
            "marker": {
             "colorbar": {
              "outlinewidth": 0,
              "ticks": ""
             }
            },
            "type": "scatterpolar"
           }
          ],
          "scatterpolargl": [
           {
            "marker": {
             "colorbar": {
              "outlinewidth": 0,
              "ticks": ""
             }
            },
            "type": "scatterpolargl"
           }
          ],
          "scatterternary": [
           {
            "marker": {
             "colorbar": {
              "outlinewidth": 0,
              "ticks": ""
             }
            },
            "type": "scatterternary"
           }
          ],
          "surface": [
           {
            "colorbar": {
             "outlinewidth": 0,
             "ticks": ""
            },
            "colorscale": [
             [
              0,
              "#0d0887"
             ],
             [
              0.1111111111111111,
              "#46039f"
             ],
             [
              0.2222222222222222,
              "#7201a8"
             ],
             [
              0.3333333333333333,
              "#9c179e"
             ],
             [
              0.4444444444444444,
              "#bd3786"
             ],
             [
              0.5555555555555556,
              "#d8576b"
             ],
             [
              0.6666666666666666,
              "#ed7953"
             ],
             [
              0.7777777777777778,
              "#fb9f3a"
             ],
             [
              0.8888888888888888,
              "#fdca26"
             ],
             [
              1,
              "#f0f921"
             ]
            ],
            "type": "surface"
           }
          ],
          "table": [
           {
            "cells": {
             "fill": {
              "color": "#EBF0F8"
             },
             "line": {
              "color": "white"
             }
            },
            "header": {
             "fill": {
              "color": "#C8D4E3"
             },
             "line": {
              "color": "white"
             }
            },
            "type": "table"
           }
          ]
         },
         "layout": {
          "annotationdefaults": {
           "arrowcolor": "#2a3f5f",
           "arrowhead": 0,
           "arrowwidth": 1
          },
          "autotypenumbers": "strict",
          "coloraxis": {
           "colorbar": {
            "outlinewidth": 0,
            "ticks": ""
           }
          },
          "colorscale": {
           "diverging": [
            [
             0,
             "#8e0152"
            ],
            [
             0.1,
             "#c51b7d"
            ],
            [
             0.2,
             "#de77ae"
            ],
            [
             0.3,
             "#f1b6da"
            ],
            [
             0.4,
             "#fde0ef"
            ],
            [
             0.5,
             "#f7f7f7"
            ],
            [
             0.6,
             "#e6f5d0"
            ],
            [
             0.7,
             "#b8e186"
            ],
            [
             0.8,
             "#7fbc41"
            ],
            [
             0.9,
             "#4d9221"
            ],
            [
             1,
             "#276419"
            ]
           ],
           "sequential": [
            [
             0,
             "#0d0887"
            ],
            [
             0.1111111111111111,
             "#46039f"
            ],
            [
             0.2222222222222222,
             "#7201a8"
            ],
            [
             0.3333333333333333,
             "#9c179e"
            ],
            [
             0.4444444444444444,
             "#bd3786"
            ],
            [
             0.5555555555555556,
             "#d8576b"
            ],
            [
             0.6666666666666666,
             "#ed7953"
            ],
            [
             0.7777777777777778,
             "#fb9f3a"
            ],
            [
             0.8888888888888888,
             "#fdca26"
            ],
            [
             1,
             "#f0f921"
            ]
           ],
           "sequentialminus": [
            [
             0,
             "#0d0887"
            ],
            [
             0.1111111111111111,
             "#46039f"
            ],
            [
             0.2222222222222222,
             "#7201a8"
            ],
            [
             0.3333333333333333,
             "#9c179e"
            ],
            [
             0.4444444444444444,
             "#bd3786"
            ],
            [
             0.5555555555555556,
             "#d8576b"
            ],
            [
             0.6666666666666666,
             "#ed7953"
            ],
            [
             0.7777777777777778,
             "#fb9f3a"
            ],
            [
             0.8888888888888888,
             "#fdca26"
            ],
            [
             1,
             "#f0f921"
            ]
           ]
          },
          "colorway": [
           "#636efa",
           "#EF553B",
           "#00cc96",
           "#ab63fa",
           "#FFA15A",
           "#19d3f3",
           "#FF6692",
           "#B6E880",
           "#FF97FF",
           "#FECB52"
          ],
          "font": {
           "color": "#2a3f5f"
          },
          "geo": {
           "bgcolor": "white",
           "lakecolor": "white",
           "landcolor": "#E5ECF6",
           "showlakes": true,
           "showland": true,
           "subunitcolor": "white"
          },
          "hoverlabel": {
           "align": "left"
          },
          "hovermode": "closest",
          "mapbox": {
           "style": "light"
          },
          "paper_bgcolor": "white",
          "plot_bgcolor": "#E5ECF6",
          "polar": {
           "angularaxis": {
            "gridcolor": "white",
            "linecolor": "white",
            "ticks": ""
           },
           "bgcolor": "#E5ECF6",
           "radialaxis": {
            "gridcolor": "white",
            "linecolor": "white",
            "ticks": ""
           }
          },
          "scene": {
           "xaxis": {
            "backgroundcolor": "#E5ECF6",
            "gridcolor": "white",
            "gridwidth": 2,
            "linecolor": "white",
            "showbackground": true,
            "ticks": "",
            "zerolinecolor": "white"
           },
           "yaxis": {
            "backgroundcolor": "#E5ECF6",
            "gridcolor": "white",
            "gridwidth": 2,
            "linecolor": "white",
            "showbackground": true,
            "ticks": "",
            "zerolinecolor": "white"
           },
           "zaxis": {
            "backgroundcolor": "#E5ECF6",
            "gridcolor": "white",
            "gridwidth": 2,
            "linecolor": "white",
            "showbackground": true,
            "ticks": "",
            "zerolinecolor": "white"
           }
          },
          "shapedefaults": {
           "line": {
            "color": "#2a3f5f"
           }
          },
          "ternary": {
           "aaxis": {
            "gridcolor": "white",
            "linecolor": "white",
            "ticks": ""
           },
           "baxis": {
            "gridcolor": "white",
            "linecolor": "white",
            "ticks": ""
           },
           "bgcolor": "#E5ECF6",
           "caxis": {
            "gridcolor": "white",
            "linecolor": "white",
            "ticks": ""
           }
          },
          "title": {
           "x": 0.05
          },
          "xaxis": {
           "automargin": true,
           "gridcolor": "white",
           "linecolor": "white",
           "ticks": "",
           "title": {
            "standoff": 15
           },
           "zerolinecolor": "white",
           "zerolinewidth": 2
          },
          "yaxis": {
           "automargin": true,
           "gridcolor": "white",
           "linecolor": "white",
           "ticks": "",
           "title": {
            "standoff": 15
           },
           "zerolinecolor": "white",
           "zerolinewidth": 2
          }
         }
        },
        "title": {
         "font": {
          "size": 16
         },
         "text": "Interactive: Top 20 States by Total Accidents"
        },
        "xaxis": {
         "anchor": "y",
         "domain": [
          0,
          1
         ],
         "tickangle": -45,
         "title": {
          "text": "State"
         }
        },
        "yaxis": {
         "anchor": "x",
         "domain": [
          0,
          1
         ],
         "title": {
          "text": "Total Accidents"
         }
        }
       }
      }
     },
     "metadata": {},
     "output_type": "display_data"
    },
    {
     "name": "stdout",
     "output_type": "stream",
     "text": [
      "\n",
      "Multi-dimensional analysis...\n"
     ]
    },
    {
     "data": {
      "application/vnd.plotly.v1+json": {
       "config": {
        "plotlyServerURL": "https://plot.ly"
       },
       "data": [
        {
         "hovertemplate": "State=AL<br>Total Accidents=%{marker.size}<br>Number of Weather Conditions=%{y}<extra></extra>",
         "legendgroup": "AL",
         "marker": {
          "color": "#636efa",
          "size": {
           "bdata": "tIoBAA==",
           "dtype": "i4"
          },
          "sizemode": "area",
          "sizeref": 4353.5825,
          "symbol": "circle"
         },
         "mode": "markers",
         "name": "AL",
         "orientation": "v",
         "showlegend": true,
         "type": "scatter",
         "x": {
          "bdata": "tIoBAA==",
          "dtype": "i4"
         },
         "xaxis": "x",
         "y": {
          "bdata": "BQ==",
          "dtype": "i1"
         },
         "yaxis": "y"
        },
        {
         "hovertemplate": "State=AR<br>Total Accidents=%{marker.size}<br>Number of Weather Conditions=%{y}<extra></extra>",
         "legendgroup": "AR",
         "marker": {
          "color": "#EF553B",
          "size": {
           "bdata": "/Fg=",
           "dtype": "i2"
          },
          "sizemode": "area",
          "sizeref": 4353.5825,
          "symbol": "circle"
         },
         "mode": "markers",
         "name": "AR",
         "orientation": "v",
         "showlegend": true,
         "type": "scatter",
         "x": {
          "bdata": "/Fg=",
          "dtype": "i2"
         },
         "xaxis": "x",
         "y": {
          "bdata": "BQ==",
          "dtype": "i1"
         },
         "yaxis": "y"
        },
        {
         "hovertemplate": "State=AZ<br>Total Accidents=%{marker.size}<br>Number of Weather Conditions=%{y}<extra></extra>",
         "legendgroup": "AZ",
         "marker": {
          "color": "#00cc96",
          "size": {
           "bdata": "cZoCAA==",
           "dtype": "i4"
          },
          "sizemode": "area",
          "sizeref": 4353.5825,
          "symbol": "circle"
         },
         "mode": "markers",
         "name": "AZ",
         "orientation": "v",
         "showlegend": true,
         "type": "scatter",
         "x": {
          "bdata": "cZoCAA==",
          "dtype": "i4"
         },
         "xaxis": "x",
         "y": {
          "bdata": "BQ==",
          "dtype": "i1"
         },
         "yaxis": "y"
        },
        {
         "hovertemplate": "State=CA<br>Total Accidents=%{marker.size}<br>Number of Weather Conditions=%{y}<extra></extra>",
         "legendgroup": "CA",
         "marker": {
          "color": "#ab63fa",
          "size": {
           "bdata": "eZIaAA==",
           "dtype": "i4"
          },
          "sizemode": "area",
          "sizeref": 4353.5825,
          "symbol": "circle"
         },
         "mode": "markers",
         "name": "CA",
         "orientation": "v",
         "showlegend": true,
         "type": "scatter",
         "x": {
          "bdata": "eZIaAA==",
          "dtype": "i4"
         },
         "xaxis": "x",
         "y": {
          "bdata": "BQ==",
          "dtype": "i1"
         },
         "yaxis": "y"
        },
        {
         "hovertemplate": "State=CO<br>Total Accidents=%{marker.size}<br>Number of Weather Conditions=%{y}<extra></extra>",
         "legendgroup": "CO",
         "marker": {
          "color": "#FFA15A",
          "size": {
           "bdata": "BWMBAA==",
           "dtype": "i4"
          },
          "sizemode": "area",
          "sizeref": 4353.5825,
          "symbol": "circle"
         },
         "mode": "markers",
         "name": "CO",
         "orientation": "v",
         "showlegend": true,
         "type": "scatter",
         "x": {
          "bdata": "BWMBAA==",
          "dtype": "i4"
         },
         "xaxis": "x",
         "y": {
          "bdata": "BQ==",
          "dtype": "i1"
         },
         "yaxis": "y"
        },
        {
         "hovertemplate": "State=CT<br>Total Accidents=%{marker.size}<br>Number of Weather Conditions=%{y}<extra></extra>",
         "legendgroup": "CT",
         "marker": {
          "color": "#19d3f3",
          "size": {
           "bdata": "XRUBAA==",
           "dtype": "i4"
          },
          "sizemode": "area",
          "sizeref": 4353.5825,
          "symbol": "circle"
         },
         "mode": "markers",
         "name": "CT",
         "orientation": "v",
         "showlegend": true,
         "type": "scatter",
         "x": {
          "bdata": "XRUBAA==",
          "dtype": "i4"
         },
         "xaxis": "x",
         "y": {
          "bdata": "BQ==",
          "dtype": "i1"
         },
         "yaxis": "y"
        },
        {
         "hovertemplate": "State=DC<br>Total Accidents=%{marker.size}<br>Number of Weather Conditions=%{y}<extra></extra>",
         "legendgroup": "DC",
         "marker": {
          "color": "#FF6692",
          "size": {
           "bdata": "xkg=",
           "dtype": "i2"
          },
          "sizemode": "area",
          "sizeref": 4353.5825,
          "symbol": "circle"
         },
         "mode": "markers",
         "name": "DC",
         "orientation": "v",
         "showlegend": true,
         "type": "scatter",
         "x": {
          "bdata": "xkg=",
          "dtype": "i2"
         },
         "xaxis": "x",
         "y": {
          "bdata": "BQ==",
          "dtype": "i1"
         },
         "yaxis": "y"
        },
        {
         "hovertemplate": "State=DE<br>Total Accidents=%{marker.size}<br>Number of Weather Conditions=%{y}<extra></extra>",
         "legendgroup": "DE",
         "marker": {
          "color": "#B6E880",
          "size": {
           "bdata": "ETc=",
           "dtype": "i2"
          },
          "sizemode": "area",
          "sizeref": 4353.5825,
          "symbol": "circle"
         },
         "mode": "markers",
         "name": "DE",
         "orientation": "v",
         "showlegend": true,
         "type": "scatter",
         "x": {
          "bdata": "ETc=",
          "dtype": "i2"
         },
         "xaxis": "x",
         "y": {
          "bdata": "BQ==",
          "dtype": "i1"
         },
         "yaxis": "y"
        },
        {
         "hovertemplate": "State=FL<br>Total Accidents=%{marker.size}<br>Number of Weather Conditions=%{y}<extra></extra>",
         "legendgroup": "FL",
         "marker": {
          "color": "#FF97FF",
          "size": {
           "bdata": "QG4NAA==",
           "dtype": "i4"
          },
          "sizemode": "area",
          "sizeref": 4353.5825,
          "symbol": "circle"
         },
         "mode": "markers",
         "name": "FL",
         "orientation": "v",
         "showlegend": true,
         "type": "scatter",
         "x": {
          "bdata": "QG4NAA==",
          "dtype": "i4"
         },
         "xaxis": "x",
         "y": {
          "bdata": "BQ==",
          "dtype": "i1"
         },
         "yaxis": "y"
        },
        {
         "hovertemplate": "State=GA<br>Total Accidents=%{marker.size}<br>Number of Weather Conditions=%{y}<extra></extra>",
         "legendgroup": "GA",
         "marker": {
          "color": "#FECB52",
          "size": {
           "bdata": "EpUCAA==",
           "dtype": "i4"
          },
          "sizemode": "area",
          "sizeref": 4353.5825,
          "symbol": "circle"
         },
         "mode": "markers",
         "name": "GA",
         "orientation": "v",
         "showlegend": true,
         "type": "scatter",
         "x": {
          "bdata": "EpUCAA==",
          "dtype": "i4"
         },
         "xaxis": "x",
         "y": {
          "bdata": "BQ==",
          "dtype": "i1"
         },
         "yaxis": "y"
        },
        {
         "hovertemplate": "State=IA<br>Total Accidents=%{marker.size}<br>Number of Weather Conditions=%{y}<extra></extra>",
         "legendgroup": "IA",
         "marker": {
          "color": "#636efa",
          "size": {
           "bdata": "w2Y=",
           "dtype": "i2"
          },
          "sizemode": "area",
          "sizeref": 4353.5825,
          "symbol": "circle"
         },
         "mode": "markers",
         "name": "IA",
         "orientation": "v",
         "showlegend": true,
         "type": "scatter",
         "x": {
          "bdata": "w2Y=",
          "dtype": "i2"
         },
         "xaxis": "x",
         "y": {
          "bdata": "BQ==",
          "dtype": "i1"
         },
         "yaxis": "y"
        },
        {
         "hovertemplate": "State=ID<br>Total Accidents=%{marker.size}<br>Number of Weather Conditions=%{y}<extra></extra>",
         "legendgroup": "ID",
         "marker": {
          "color": "#EF553B",
          "size": {
           "bdata": "cCw=",
           "dtype": "i2"
          },
          "sizemode": "area",
          "sizeref": 4353.5825,
          "symbol": "circle"
         },
         "mode": "markers",
         "name": "ID",
         "orientation": "v",
         "showlegend": true,
         "type": "scatter",
         "x": {
          "bdata": "cCw=",
          "dtype": "i2"
         },
         "xaxis": "x",
         "y": {
          "bdata": "BQ==",
          "dtype": "i1"
         },
         "yaxis": "y"
        },
        {
         "hovertemplate": "State=IL<br>Total Accidents=%{marker.size}<br>Number of Weather Conditions=%{y}<extra></extra>",
         "legendgroup": "IL",
         "marker": {
          "color": "#00cc96",
          "size": {
           "bdata": "/pMCAA==",
           "dtype": "i4"
          },
          "sizemode": "area",
          "sizeref": 4353.5825,
          "symbol": "circle"
         },
         "mode": "markers",
         "name": "IL",
         "orientation": "v",
         "showlegend": true,
         "type": "scatter",
         "x": {
          "bdata": "/pMCAA==",
          "dtype": "i4"
         },
         "xaxis": "x",
         "y": {
          "bdata": "BQ==",
          "dtype": "i1"
         },
         "yaxis": "y"
        },
        {
         "hovertemplate": "State=IN<br>Total Accidents=%{marker.size}<br>Number of Weather Conditions=%{y}<extra></extra>",
         "legendgroup": "IN",
         "marker": {
          "color": "#ab63fa",
          "size": {
           "bdata": "mAYBAA==",
           "dtype": "i4"
          },
          "sizemode": "area",
          "sizeref": 4353.5825,
          "symbol": "circle"
         },
         "mode": "markers",
         "name": "IN",
         "orientation": "v",
         "showlegend": true,
         "type": "scatter",
         "x": {
          "bdata": "mAYBAA==",
          "dtype": "i4"
         },
         "xaxis": "x",
         "y": {
          "bdata": "BQ==",
          "dtype": "i1"
         },
         "yaxis": "y"
        },
        {
         "hovertemplate": "State=KS<br>Total Accidents=%{marker.size}<br>Number of Weather Conditions=%{y}<extra></extra>",
         "legendgroup": "KS",
         "marker": {
          "color": "#FFA15A",
          "size": {
           "bdata": "AFI=",
           "dtype": "i2"
          },
          "sizemode": "area",
          "sizeref": 4353.5825,
          "symbol": "circle"
         },
         "mode": "markers",
         "name": "KS",
         "orientation": "v",
         "showlegend": true,
         "type": "scatter",
         "x": {
          "bdata": "AFI=",
          "dtype": "i2"
         },
         "xaxis": "x",
         "y": {
          "bdata": "BQ==",
          "dtype": "i1"
         },
         "yaxis": "y"
        }
       ],
       "layout": {
        "font": {
         "size": 12
        },
        "height": 600,
        "legend": {
         "itemsizing": "constant",
         "title": {
          "text": "State"
         },
         "tracegroupgap": 0
        },
        "template": {
         "data": {
          "bar": [
           {
            "error_x": {
             "color": "#2a3f5f"
            },
            "error_y": {
             "color": "#2a3f5f"
            },
            "marker": {
             "line": {
              "color": "#E5ECF6",
              "width": 0.5
             },
             "pattern": {
              "fillmode": "overlay",
              "size": 10,
              "solidity": 0.2
             }
            },
            "type": "bar"
           }
          ],
          "barpolar": [
           {
            "marker": {
             "line": {
              "color": "#E5ECF6",
              "width": 0.5
             },
             "pattern": {
              "fillmode": "overlay",
              "size": 10,
              "solidity": 0.2
             }
            },
            "type": "barpolar"
           }
          ],
          "carpet": [
           {
            "aaxis": {
             "endlinecolor": "#2a3f5f",
             "gridcolor": "white",
             "linecolor": "white",
             "minorgridcolor": "white",
             "startlinecolor": "#2a3f5f"
            },
            "baxis": {
             "endlinecolor": "#2a3f5f",
             "gridcolor": "white",
             "linecolor": "white",
             "minorgridcolor": "white",
             "startlinecolor": "#2a3f5f"
            },
            "type": "carpet"
           }
          ],
          "choropleth": [
           {
            "colorbar": {
             "outlinewidth": 0,
             "ticks": ""
            },
            "type": "choropleth"
           }
          ],
          "contour": [
           {
            "colorbar": {
             "outlinewidth": 0,
             "ticks": ""
            },
            "colorscale": [
             [
              0,
              "#0d0887"
             ],
             [
              0.1111111111111111,
              "#46039f"
             ],
             [
              0.2222222222222222,
              "#7201a8"
             ],
             [
              0.3333333333333333,
              "#9c179e"
             ],
             [
              0.4444444444444444,
              "#bd3786"
             ],
             [
              0.5555555555555556,
              "#d8576b"
             ],
             [
              0.6666666666666666,
              "#ed7953"
             ],
             [
              0.7777777777777778,
              "#fb9f3a"
             ],
             [
              0.8888888888888888,
              "#fdca26"
             ],
             [
              1,
              "#f0f921"
             ]
            ],
            "type": "contour"
           }
          ],
          "contourcarpet": [
           {
            "colorbar": {
             "outlinewidth": 0,
             "ticks": ""
            },
            "type": "contourcarpet"
           }
          ],
          "heatmap": [
           {
            "colorbar": {
             "outlinewidth": 0,
             "ticks": ""
            },
            "colorscale": [
             [
              0,
              "#0d0887"
             ],
             [
              0.1111111111111111,
              "#46039f"
             ],
             [
              0.2222222222222222,
              "#7201a8"
             ],
             [
              0.3333333333333333,
              "#9c179e"
             ],
             [
              0.4444444444444444,
              "#bd3786"
             ],
             [
              0.5555555555555556,
              "#d8576b"
             ],
             [
              0.6666666666666666,
              "#ed7953"
             ],
             [
              0.7777777777777778,
              "#fb9f3a"
             ],
             [
              0.8888888888888888,
              "#fdca26"
             ],
             [
              1,
              "#f0f921"
             ]
            ],
            "type": "heatmap"
           }
          ],
          "histogram": [
           {
            "marker": {
             "pattern": {
              "fillmode": "overlay",
              "size": 10,
              "solidity": 0.2
             }
            },
            "type": "histogram"
           }
          ],
          "histogram2d": [
           {
            "colorbar": {
             "outlinewidth": 0,
             "ticks": ""
            },
            "colorscale": [
             [
              0,
              "#0d0887"
             ],
             [
              0.1111111111111111,
              "#46039f"
             ],
             [
              0.2222222222222222,
              "#7201a8"
             ],
             [
              0.3333333333333333,
              "#9c179e"
             ],
             [
              0.4444444444444444,
              "#bd3786"
             ],
             [
              0.5555555555555556,
              "#d8576b"
             ],
             [
              0.6666666666666666,
              "#ed7953"
             ],
             [
              0.7777777777777778,
              "#fb9f3a"
             ],
             [
              0.8888888888888888,
              "#fdca26"
             ],
             [
              1,
              "#f0f921"
             ]
            ],
            "type": "histogram2d"
           }
          ],
          "histogram2dcontour": [
           {
            "colorbar": {
             "outlinewidth": 0,
             "ticks": ""
            },
            "colorscale": [
             [
              0,
              "#0d0887"
             ],
             [
              0.1111111111111111,
              "#46039f"
             ],
             [
              0.2222222222222222,
              "#7201a8"
             ],
             [
              0.3333333333333333,
              "#9c179e"
             ],
             [
              0.4444444444444444,
              "#bd3786"
             ],
             [
              0.5555555555555556,
              "#d8576b"
             ],
             [
              0.6666666666666666,
              "#ed7953"
             ],
             [
              0.7777777777777778,
              "#fb9f3a"
             ],
             [
              0.8888888888888888,
              "#fdca26"
             ],
             [
              1,
              "#f0f921"
             ]
            ],
            "type": "histogram2dcontour"
           }
          ],
          "mesh3d": [
           {
            "colorbar": {
             "outlinewidth": 0,
             "ticks": ""
            },
            "type": "mesh3d"
           }
          ],
          "parcoords": [
           {
            "line": {
             "colorbar": {
              "outlinewidth": 0,
              "ticks": ""
             }
            },
            "type": "parcoords"
           }
          ],
          "pie": [
           {
            "automargin": true,
            "type": "pie"
           }
          ],
          "scatter": [
           {
            "fillpattern": {
             "fillmode": "overlay",
             "size": 10,
             "solidity": 0.2
            },
            "type": "scatter"
           }
          ],
          "scatter3d": [
           {
            "line": {
             "colorbar": {
              "outlinewidth": 0,
              "ticks": ""
             }
            },
            "marker": {
             "colorbar": {
              "outlinewidth": 0,
              "ticks": ""
             }
            },
            "type": "scatter3d"
           }
          ],
          "scattercarpet": [
           {
            "marker": {
             "colorbar": {
              "outlinewidth": 0,
              "ticks": ""
             }
            },
            "type": "scattercarpet"
           }
          ],
          "scattergeo": [
           {
            "marker": {
             "colorbar": {
              "outlinewidth": 0,
              "ticks": ""
             }
            },
            "type": "scattergeo"
           }
          ],
          "scattergl": [
           {
            "marker": {
             "colorbar": {
              "outlinewidth": 0,
              "ticks": ""
             }
            },
            "type": "scattergl"
           }
          ],
          "scattermap": [
           {
            "marker": {
             "colorbar": {
              "outlinewidth": 0,
              "ticks": ""
             }
            },
            "type": "scattermap"
           }
          ],
          "scattermapbox": [
           {
            "marker": {
             "colorbar": {
              "outlinewidth": 0,
              "ticks": ""
             }
            },
            "type": "scattermapbox"
           }
          ],
          "scatterpolar": [
           {
            "marker": {
             "colorbar": {
              "outlinewidth": 0,
              "ticks": ""
             }
            },
            "type": "scatterpolar"
           }
          ],
          "scatterpolargl": [
           {
            "marker": {
             "colorbar": {
              "outlinewidth": 0,
              "ticks": ""
             }
            },
            "type": "scatterpolargl"
           }
          ],
          "scatterternary": [
           {
            "marker": {
             "colorbar": {
              "outlinewidth": 0,
              "ticks": ""
             }
            },
            "type": "scatterternary"
           }
          ],
          "surface": [
           {
            "colorbar": {
             "outlinewidth": 0,
             "ticks": ""
            },
            "colorscale": [
             [
              0,
              "#0d0887"
             ],
             [
              0.1111111111111111,
              "#46039f"
             ],
             [
              0.2222222222222222,
              "#7201a8"
             ],
             [
              0.3333333333333333,
              "#9c179e"
             ],
             [
              0.4444444444444444,
              "#bd3786"
             ],
             [
              0.5555555555555556,
              "#d8576b"
             ],
             [
              0.6666666666666666,
              "#ed7953"
             ],
             [
              0.7777777777777778,
              "#fb9f3a"
             ],
             [
              0.8888888888888888,
              "#fdca26"
             ],
             [
              1,
              "#f0f921"
             ]
            ],
            "type": "surface"
           }
          ],
          "table": [
           {
            "cells": {
             "fill": {
              "color": "#EBF0F8"
             },
             "line": {
              "color": "white"
             }
            },
            "header": {
             "fill": {
              "color": "#C8D4E3"
             },
             "line": {
              "color": "white"
             }
            },
            "type": "table"
           }
          ]
         },
         "layout": {
          "annotationdefaults": {
           "arrowcolor": "#2a3f5f",
           "arrowhead": 0,
           "arrowwidth": 1
          },
          "autotypenumbers": "strict",
          "coloraxis": {
           "colorbar": {
            "outlinewidth": 0,
            "ticks": ""
           }
          },
          "colorscale": {
           "diverging": [
            [
             0,
             "#8e0152"
            ],
            [
             0.1,
             "#c51b7d"
            ],
            [
             0.2,
             "#de77ae"
            ],
            [
             0.3,
             "#f1b6da"
            ],
            [
             0.4,
             "#fde0ef"
            ],
            [
             0.5,
             "#f7f7f7"
            ],
            [
             0.6,
             "#e6f5d0"
            ],
            [
             0.7,
             "#b8e186"
            ],
            [
             0.8,
             "#7fbc41"
            ],
            [
             0.9,
             "#4d9221"
            ],
            [
             1,
             "#276419"
            ]
           ],
           "sequential": [
            [
             0,
             "#0d0887"
            ],
            [
             0.1111111111111111,
             "#46039f"
            ],
            [
             0.2222222222222222,
             "#7201a8"
            ],
            [
             0.3333333333333333,
             "#9c179e"
            ],
            [
             0.4444444444444444,
             "#bd3786"
            ],
            [
             0.5555555555555556,
             "#d8576b"
            ],
            [
             0.6666666666666666,
             "#ed7953"
            ],
            [
             0.7777777777777778,
             "#fb9f3a"
            ],
            [
             0.8888888888888888,
             "#fdca26"
            ],
            [
             1,
             "#f0f921"
            ]
           ],
           "sequentialminus": [
            [
             0,
             "#0d0887"
            ],
            [
             0.1111111111111111,
             "#46039f"
            ],
            [
             0.2222222222222222,
             "#7201a8"
            ],
            [
             0.3333333333333333,
             "#9c179e"
            ],
            [
             0.4444444444444444,
             "#bd3786"
            ],
            [
             0.5555555555555556,
             "#d8576b"
            ],
            [
             0.6666666666666666,
             "#ed7953"
            ],
            [
             0.7777777777777778,
             "#fb9f3a"
            ],
            [
             0.8888888888888888,
             "#fdca26"
            ],
            [
             1,
             "#f0f921"
            ]
           ]
          },
          "colorway": [
           "#636efa",
           "#EF553B",
           "#00cc96",
           "#ab63fa",
           "#FFA15A",
           "#19d3f3",
           "#FF6692",
           "#B6E880",
           "#FF97FF",
           "#FECB52"
          ],
          "font": {
           "color": "#2a3f5f"
          },
          "geo": {
           "bgcolor": "white",
           "lakecolor": "white",
           "landcolor": "#E5ECF6",
           "showlakes": true,
           "showland": true,
           "subunitcolor": "white"
          },
          "hoverlabel": {
           "align": "left"
          },
          "hovermode": "closest",
          "mapbox": {
           "style": "light"
          },
          "paper_bgcolor": "white",
          "plot_bgcolor": "#E5ECF6",
          "polar": {
           "angularaxis": {
            "gridcolor": "white",
            "linecolor": "white",
            "ticks": ""
           },
           "bgcolor": "#E5ECF6",
           "radialaxis": {
            "gridcolor": "white",
            "linecolor": "white",
            "ticks": ""
           }
          },
          "scene": {
           "xaxis": {
            "backgroundcolor": "#E5ECF6",
            "gridcolor": "white",
            "gridwidth": 2,
            "linecolor": "white",
            "showbackground": true,
            "ticks": "",
            "zerolinecolor": "white"
           },
           "yaxis": {
            "backgroundcolor": "#E5ECF6",
            "gridcolor": "white",
            "gridwidth": 2,
            "linecolor": "white",
            "showbackground": true,
            "ticks": "",
            "zerolinecolor": "white"
           },
           "zaxis": {
            "backgroundcolor": "#E5ECF6",
            "gridcolor": "white",
            "gridwidth": 2,
            "linecolor": "white",
            "showbackground": true,
            "ticks": "",
            "zerolinecolor": "white"
           }
          },
          "shapedefaults": {
           "line": {
            "color": "#2a3f5f"
           }
          },
          "ternary": {
           "aaxis": {
            "gridcolor": "white",
            "linecolor": "white",
            "ticks": ""
           },
           "baxis": {
            "gridcolor": "white",
            "linecolor": "white",
            "ticks": ""
           },
           "bgcolor": "#E5ECF6",
           "caxis": {
            "gridcolor": "white",
            "linecolor": "white",
            "ticks": ""
           }
          },
          "title": {
           "x": 0.05
          },
          "xaxis": {
           "automargin": true,
           "gridcolor": "white",
           "linecolor": "white",
           "ticks": "",
           "title": {
            "standoff": 15
           },
           "zerolinecolor": "white",
           "zerolinewidth": 2
          },
          "yaxis": {
           "automargin": true,
           "gridcolor": "white",
           "linecolor": "white",
           "ticks": "",
           "title": {
            "standoff": 15
           },
           "zerolinecolor": "white",
           "zerolinewidth": 2
          }
         }
        },
        "title": {
         "font": {
          "size": 16
         },
         "text": "Interactive: State Analysis - Accidents vs Weather Diversity"
        },
        "xaxis": {
         "anchor": "y",
         "domain": [
          0,
          1
         ],
         "title": {
          "text": "Total Accidents"
         }
        },
        "yaxis": {
         "anchor": "x",
         "domain": [
          0,
          1
         ],
         "title": {
          "text": "Number of Weather Conditions"
         }
        }
       }
      }
     },
     "metadata": {},
     "output_type": "display_data"
    },
    {
     "name": "stdout",
     "output_type": "stream",
     "text": [
      "\n",
      "Interactive visualizations created!\n",
      "\n",
      "Pro Tips for Interaction:\n",
      "   • Hover over data points for detailed information\n",
      "   • Use the toolbar to zoom, pan, and select\n",
      "   • Click legend items to show/hide data series\n",
      "   • Use animation controls to play through time\n",
      "   • Double-click to reset zoom\n",
      "\n",
      "INTERACTIVE FEATURES AVAILABLE:\n",
      "   1. State trends over time (hover and zoom)\n",
      "   2. Animated severity distribution\n",
      "   3. 3D time pattern exploration\n",
      "   4. Interactive state rankings\n",
      "   5. Multi-dimensional state analysis\n"
     ]
    }
   ],
   "source": [
    "# Interactive Visualizations with Plotly\n",
    "\n",
    "print(\"=\"*60)\n",
    "print(\"6. INTERACTIVE VISUALIZATIONS\")\n",
    "print(\"=\"*60)\n",
    "\n",
    "# Interactive time series by state\n",
    "if data_source == \"processed\":\n",
    "    state_time_data = annual_totals.copy()\n",
    "else:\n",
    "    state_time_data = conn.execute(\"\"\"\n",
    "        SELECT \n",
    "            EXTRACT(year FROM Start_Time::TIMESTAMP) as year,\n",
    "            State,\n",
    "            COUNT(*) as total_accidents\n",
    "        FROM accidents \n",
    "        WHERE Start_Time IS NOT NULL AND State IS NOT NULL AND State != ''\n",
    "        GROUP BY year, State\n",
    "        ORDER BY year, State\n",
    "    \"\"\").fetchdf()\n",
    "\n",
    "# Get top 10 states for cleaner visualization\n",
    "if 'top_10_states' in globals():\n",
    "    top_states_for_plot = top_10_states\n",
    "else:\n",
    "    top_states_for_plot = (state_time_data.groupby('State')['total_accidents']\n",
    "                          .sum().nlargest(10).index.tolist())\n",
    "\n",
    "state_time_filtered = state_time_data[state_time_data['State'].isin(top_states_for_plot)]\n",
    "\n",
    "print(\"Creating interactive visualizations...\")\n",
    "print(\"   (These will appear below - you can interact with them!)\")\n",
    "\n",
    "# 1. Interactive line plot - State trends over time\n",
    "fig1 = px.line(state_time_filtered, \n",
    "              x='year', \n",
    "              y='total_accidents', \n",
    "              color='State',\n",
    "              title='Interactive: Accident Trends by State (Top 10 States)',\n",
    "              labels={'total_accidents': 'Number of Accidents', 'year': 'Year'},\n",
    "              height=600,\n",
    "              line_shape='spline')\n",
    "\n",
    "fig1.update_layout(\n",
    "    hovermode='x unified',\n",
    "    xaxis_title='Year',\n",
    "    yaxis_title='Number of Accidents',\n",
    "    legend_title='State',\n",
    "    font=dict(size=12),\n",
    "    title_font_size=16\n",
    ")\n",
    "\n",
    "# Add annotations for key insights\n",
    "if 'yearly_totals' in globals():\n",
    "    peak_year = yearly_totals.loc[yearly_totals['total_accidents'].idxmax(), 'year']\n",
    "    fig1.add_annotation(\n",
    "        x=peak_year,\n",
    "        y=state_time_filtered[state_time_filtered['year'] == peak_year]['total_accidents'].max(),\n",
    "        text=f\"Peak Year: {peak_year:.0f}\",\n",
    "        showarrow=True,\n",
    "        arrowhead=2,\n",
    "        arrowcolor=\"red\",\n",
    "        bgcolor=\"yellow\",\n",
    "        bordercolor=\"red\"\n",
    "    )\n",
    "\n",
    "fig1.show()\n",
    "\n",
    "# 2. Interactive severity distribution with animation\n",
    "if 'severity_data' in globals():\n",
    "    print(\"\\nAnimated severity distribution by year...\")\n",
    "    \n",
    "    # Prepare data for animation\n",
    "    severity_for_animation = severity_data.copy()\n",
    "    \n",
    "    fig2 = px.bar(severity_for_animation, \n",
    "                 x='Severity', \n",
    "                 y='accident_count',\n",
    "                 animation_frame='year',\n",
    "                 title='Animated: Accident Count by Severity Level Over Time',\n",
    "                 labels={'accident_count': 'Number of Accidents', 'Severity': 'Severity Level'},\n",
    "                 color='Severity',\n",
    "                 color_continuous_scale='Reds',\n",
    "                 height=500)\n",
    "    \n",
    "    fig2.update_layout(\n",
    "        xaxis_title='Severity Level',\n",
    "        yaxis_title='Number of Accidents',\n",
    "        showlegend=False,\n",
    "        font=dict(size=12),\n",
    "        title_font_size=16\n",
    "    )\n",
    "    \n",
    "    # Customize animation\n",
    "    fig2.layout.updatemenus[0].buttons[0].args[1]['frame']['duration'] = 1000\n",
    "    fig2.layout.updatemenus[0].buttons[0].args[1]['transition']['duration'] = 500\n",
    "    \n",
    "    fig2.show()\n",
    "\n",
    "# 3. Interactive 3D surface plot - Hour vs Day vs Accidents\n",
    "if 'time_data' in globals():\n",
    "    print(\"\\n3D interactive time pattern visualization...\")\n",
    "    \n",
    "    # Prepare data for 3D plot\n",
    "    hour_dow_data = time_data.groupby(['hour', 'day_of_week'])['accident_count'].sum().reset_index()\n",
    "    \n",
    "    # Create pivot for 3D surface\n",
    "    hour_dow_3d = hour_dow_data.pivot(index='hour', columns='day_of_week', values='accident_count')\n",
    "    \n",
    "    fig3 = go.Figure(data=[go.Surface(\n",
    "        z=hour_dow_3d.values,\n",
    "        x=hour_dow_3d.columns,  # Day of week\n",
    "        y=hour_dow_3d.index,    # Hour\n",
    "        colorscale='Viridis',\n",
    "        colorbar=dict(title=\"Number of Accidents\")\n",
    "    )])\n",
    "    \n",
    "    fig3.update_layout(\n",
    "        title='3D Interactive: Accidents by Hour and Day of Week',\n",
    "        scene=dict(\n",
    "            xaxis_title='Day of Week (0=Sunday, 6=Saturday)',\n",
    "            yaxis_title='Hour of Day',\n",
    "            zaxis_title='Number of Accidents'\n",
    "        ),\n",
    "        height=600,\n",
    "        font=dict(size=12)\n",
    "    )\n",
    "    \n",
    "    fig3.show()\n",
    "\n",
    "# 4. Interactive choropleth-style state comparison\n",
    "print(\"\\n Interactive state comparison...\")\n",
    "\n",
    "if 'state_totals' in globals():\n",
    "    # Prepare state data for interactive plot\n",
    "    state_summary = pd.DataFrame({\n",
    "        'State': state_totals.index,\n",
    "        'Total_Accidents': state_totals.values\n",
    "    })\n",
    "    \n",
    "    # Add accident rate categories\n",
    "    state_summary['Category'] = pd.cut(state_summary['Total_Accidents'], \n",
    "                                      bins=5, \n",
    "                                      labels=['Very Low', 'Low', 'Medium', 'High', 'Very High'])\n",
    "    \n",
    "    fig4 = px.bar(state_summary.head(20),  # Top 20 states\n",
    "                 x='State', \n",
    "                 y='Total_Accidents',\n",
    "                 color='Category',\n",
    "                 title='Interactive: Top 20 States by Total Accidents',\n",
    "                 labels={'Total_Accidents': 'Total Accidents'},\n",
    "                 height=600,\n",
    "                 color_discrete_sequence=px.colors.sequential.Reds_r)\n",
    "    \n",
    "    fig4.update_layout(\n",
    "        xaxis_title='State',\n",
    "        yaxis_title='Total Accidents',\n",
    "        xaxis_tickangle=-45,\n",
    "        font=dict(size=12),\n",
    "        title_font_size=16\n",
    "    )\n",
    "    \n",
    "    # Add hover information\n",
    "    fig4.update_traces(\n",
    "        hovertemplate='<b>%{x}</b><br>' +\n",
    "                     'Total Accidents: %{y:,}<br>' +\n",
    "                     '<extra></extra>'\n",
    "    )\n",
    "    \n",
    "    fig4.show()\n",
    "\n",
    "# 5. Interactive scatter plot matrix (if we have multiple dimensions)\n",
    "if data_source == \"processed\" and 'risk_metrics' in globals():\n",
    "    print(\"\\nMulti-dimensional analysis...\")\n",
    "    \n",
    "    # Create summary by state for scatter plot\n",
    "    state_analysis = risk_metrics.groupby('State').agg({\n",
    "        'accident_count': 'sum',\n",
    "        'year': 'nunique'  # Number of years with data\n",
    "    }).reset_index()\n",
    "    \n",
    "    # Add severity and weather diversity\n",
    "    if 'weather_data' in globals():\n",
    "        weather_diversity = weather_data.groupby('State').size().reset_index(name='weather_diversity')\n",
    "        state_analysis = state_analysis.merge(weather_diversity, on='State', how='left')\n",
    "    \n",
    "    if len(state_analysis) > 10:  # Only if we have enough data\n",
    "        fig5 = px.scatter(state_analysis.head(15), \n",
    "                         x='accident_count', \n",
    "                         y='weather_diversity' if 'weather_diversity' in state_analysis.columns else 'year',\n",
    "                         size='accident_count',\n",
    "                         color='State',\n",
    "                         title='Interactive: State Analysis - Accidents vs Weather Diversity',\n",
    "                         labels={'accident_count': 'Total Accidents', \n",
    "                                'weather_diversity': 'Number of Weather Conditions'},\n",
    "                         height=600)\n",
    "        \n",
    "        fig5.update_layout(\n",
    "            font=dict(size=12),\n",
    "            title_font_size=16\n",
    "        )\n",
    "        \n",
    "        fig5.show()\n",
    "\n",
    "print(\"\\nInteractive visualizations created!\")\n",
    "print(\"\\nPro Tips for Interaction:\")\n",
    "print(\"   • Hover over data points for detailed information\")\n",
    "print(\"   • Use the toolbar to zoom, pan, and select\")\n",
    "print(\"   • Click legend items to show/hide data series\")\n",
    "print(\"   • Use animation controls to play through time\")\n",
    "print(\"   • Double-click to reset zoom\")\n",
    "\n",
    "# Summary of interactive insights\n",
    "print(f\"\\nINTERACTIVE FEATURES AVAILABLE:\")\n",
    "print(f\"   1. State trends over time (hover and zoom)\")\n",
    "print(f\"   2. Animated severity distribution\")\n",
    "print(f\"   3. 3D time pattern exploration\")\n",
    "print(f\"   4. Interactive state rankings\")\n",
    "if data_source == \"processed\":\n",
    "    print(f\"   5. Multi-dimensional state analysis\")"
   ]
  }
 ],
 "metadata": {
  "kernelspec": {
   "display_name": "venv",
   "language": "python",
   "name": "python3"
  },
  "language_info": {
   "codemirror_mode": {
    "name": "ipython",
    "version": 3
   },
   "file_extension": ".py",
   "mimetype": "text/x-python",
   "name": "python",
   "nbconvert_exporter": "python",
   "pygments_lexer": "ipython3",
   "version": "3.11.5"
  }
 },
 "nbformat": 4,
 "nbformat_minor": 5
}
